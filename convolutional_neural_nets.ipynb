{
 "cells": [
  {
   "cell_type": "markdown",
   "metadata": {
    "id": "Qt6IQX1RewXs"
   },
   "source": [
    "**Important**:\n",
    "Follow the instructions below when submitting your attempt.\n",
    "Submissions not following these instructions will not be graded.\n",
    "\n",
    "1. Submit in **teams of 3 or 4 students**, add their names and matriculation numbers below. Only **one team member should upload** the solutions.\n",
    "2. **Use jupyter notebook**. Other notebook-editing software (e.g. jupyter-lab, pycharm) might corrupt the notebook files and could have issues with displaying matplotlib interactively.\n",
    "3. **Do not remove, modify or duplicate** any given cells, except those in which you need to fill in your implementation. You can add new cells in order to present additional texts or plots.\n",
    "4. **Restart the kernel and re-run the whole notebook** once before submission. After this step, the cell id should be incremental from top to bottom, and all plots should be displayed.\n",
    "5. **Submit only the `.ipynb` files**, do not upload archives (zip, rar, tar, etc.), images or datasets.\n",
    "6. **Do not change the filenames** of the `.ipynb` files."
   ]
  },
  {
   "cell_type": "markdown",
   "metadata": {
    "id": "yiEZzofUewXz"
   },
   "source": [
    "Team members (names and matriculation numbers):\n",
    "* María López Sánchez, 412286\n",
    "* Sergio González Cabeza, 438054\n",
    "* Pol Barrera Valls, 433468\n",
    "* Guillermo Martorell Hurtado, 436482"
   ]
  },
  {
   "cell_type": "markdown",
   "metadata": {
    "id": "i7s9fZmqewX0"
   },
   "source": [
    "# Convolutional Neural Networks\n",
    "\n",
    "In this exercise you will be introduced to some practical aspects of deep learning in computer vision, including constructing a deep neural network and training it via gradient descent to tackle image classification. The PyTorch-framework will be used for this.\n",
    "\n",
    "We will tackle **image classification** through deep learning methods, in particular we will look at\n",
    "\n",
    "* Softmax regression with stochastic gradient descent and Adam\n",
    "* Multilayer perceptrons with tanh and ReLU\n",
    "* Data augmentation\n",
    "* A basic convolutional net\n",
    "* BatchNorm, striding, global average pooling\n",
    "* Residual networks\n",
    "* Learning rate decay\n",
    "\n",
    "\n",
    "### Install PyTorch\n",
    "\n",
    "Use `conda install -y pytorch torchvision cpuonly -c pytorch` to install PyTorch without GPU support (make sure that the correct conda environment is active). You may also install a GPU-build if you have a compatible GPU, see https://pytorch.org/get-started/locally/. Using a GPU will make the training several times faster, but since not all of you may have one, we have tried to scale this exercise with a CPU in mind.\n",
    "\n",
    "### TensorBoard Plotting\n",
    "\n",
    "TensorBoard is a web-based tool for drawing pretty plots of quantities we care about during training, such as the loss. Install it using `conda install -y tensorboard=2.8 -c conda-forge`.\n",
    "\n",
    "We need to choose a folder where these values will be stored (\"logdir\"). Start the TensorBoard server by executing e.g. `tensorboard --logdir tensorboard_logs` after you've activated your conda environment. If you change the logdir, also adjust it in the cell below.\n",
    "\n",
    "You can view the graphs by visiting http://localhost:6006/#custom_scalars in your browser (6006 is the default port).\n",
    "Make sure that \"Custom Scalars\" is selected at the top (not \"Scalars\") because this will give a better visualization.\n",
    "At first there will be nothing to plot, so it will be empty."
   ]
  },
  {
   "cell_type": "code",
   "execution_count": 1,
   "metadata": {
    "id": "B6aIEyPdewX1"
   },
   "outputs": [],
   "source": [
    "LOG_ROOT = 'tensorboard_logs'\n",
    "USE_GPU = True  # Set to True if you have installed tensorflow for GPU"
   ]
  },
  {
   "cell_type": "code",
   "execution_count": 2,
   "metadata": {
    "colab": {
     "base_uri": "https://localhost:8080/",
     "height": 17
    },
    "id": "aLYaUqMEewX3",
    "outputId": "cce5d973-0a64-4e1d-841e-b5e4c6d984f0"
   },
   "outputs": [
    {
     "data": {
      "text/html": [
       "<!-- Run this cell to add heading letters per subtask (like a, b, c) -->\n",
       "<style>\n",
       "body {counter-reset: section;}\n",
       "h2:before {counter-increment: section;\n",
       "           content: counter(section, lower-alpha) \") \";}\n",
       "</style>"
      ],
      "text/plain": [
       "<IPython.core.display.HTML object>"
      ]
     },
     "metadata": {},
     "output_type": "display_data"
    }
   ],
   "source": [
    "%%html\n",
    "<!-- Run this cell to add heading letters per subtask (like a, b, c) -->\n",
    "<style>\n",
    "body {counter-reset: section;}\n",
    "h2:before {counter-increment: section;\n",
    "           content: counter(section, lower-alpha) \") \";}\n",
    "</style>"
   ]
  },
  {
   "cell_type": "code",
   "execution_count": 3,
   "metadata": {
    "id": "FWTiA7U9ewX3"
   },
   "outputs": [],
   "source": [
    "%matplotlib inline\n",
    "import os\n",
    "import time\n",
    "import datetime\n",
    "import numpy as np\n",
    "import matplotlib.pyplot as plt\n",
    "import imageio\n",
    "import cv2\n",
    "import torch\n",
    "import torch.nn as nn\n",
    "import torch.nn.functional as F\n",
    "import torch.optim as optim\n",
    "from torchvision.datasets import CIFAR10\n",
    "from torch.utils.data import DataLoader\n",
    "import torchvision.transforms as transforms\n",
    "from torch.utils.tensorboard import SummaryWriter\n",
    "\n",
    "# Just an image plotting function\n",
    "def plot_multiple(images, titles=None, colormap='gray',\n",
    "                  max_columns=np.inf, imwidth=2, imheight=2, share_axes=False):\n",
    "    \"\"\"\n",
    "    Plot multiple images as subplots on a grid. Images must be channel-first\n",
    "    and between [0, 1].\n",
    "    \"\"\"\n",
    "    images = [np.transpose(im, (1, 2, 0)) for im in images]\n",
    "    if titles is None:\n",
    "        titles = [''] * len(images)\n",
    "    assert len(images) == len(titles)\n",
    "    n_images = len(images)\n",
    "    n_cols = min(max_columns, n_images)\n",
    "    n_rows = int(np.ceil(n_images / n_cols))\n",
    "    fig, axes = plt.subplots(\n",
    "        n_rows, n_cols, figsize=(n_cols * imwidth, n_rows * imheight),\n",
    "        squeeze=False, sharex=share_axes, sharey=share_axes)\n",
    "\n",
    "    axes = axes.flat\n",
    "    # Hide subplots without content\n",
    "    for ax in axes[n_images:]:\n",
    "        ax.axis('off')\n",
    "        \n",
    "    if not isinstance(colormap, (list,tuple)):\n",
    "        colormaps = [colormap]*n_images\n",
    "    else:\n",
    "        colormaps = colormap\n",
    "\n",
    "    for ax, image, title, cmap in zip(axes, images, titles, colormaps):\n",
    "        ax.imshow(image, cmap=cmap)\n",
    "        ax.set_title(title)\n",
    "        ax.get_xaxis().set_visible(False)\n",
    "        ax.get_yaxis().set_visible(False)\n",
    "        \n",
    "    fig.tight_layout()\n",
    "    \n",
    "def visualize_dataset(dataset, n_samples=24, max_columns=6):\n",
    "    xs, ys = list(zip(*[dataset[i] for i in range(n_samples)]))\n",
    "    plot_multiple([x / 2 + 0.5 for x in xs], [labels[i] for i in ys], max_columns=max_columns)"
   ]
  },
  {
   "cell_type": "markdown",
   "metadata": {
    "id": "ChqjIb78ewX4"
   },
   "source": [
    "## Dataset Preparation\n",
    "We are going to tackle the classic image classification task using the **CIFAR-10 dataset**, containing 60,000 32x32 RGB images of 10 different classes (50,000 for training and 10,000 for testing). \n",
    "\n",
    "![image.png](cifar.png)\n",
    "\n",
    "The dataset is automatically downloaded if you run the next cell.\n",
    "It will take some time and might produce quite some output with the default Jupyter settings, but you can ignore this.\n",
    "After the dataset was downloaded once, this will not happen anymore.\n",
    "You may read more about the dataset at https://www.cs.toronto.edu/~kriz/cifar.html.\n",
    "\n",
    "Note, that for historical reasons PyTorch uses a \"channels-first\"-format, i.e. the order of the dimensions for an image is `NCHW` (batch-channels-height-width), not `NHWC` (batch-height-width-channels)."
   ]
  },
  {
   "cell_type": "code",
   "execution_count": 4,
   "metadata": {
    "colab": {
     "base_uri": "https://localhost:8080/",
     "height": 753,
     "referenced_widgets": [
      "5283944647ca41d6b2de71de292df0b3",
      "2167d8f13d264e17a1ed1edc76589231",
      "d0a4737865224a0bb924d2c4755bfe08",
      "24e7e46f8e494cd0b4f06252cda6ea72",
      "3e32c9436b50496294a2d3fa0f4f73b0",
      "ebc55372048645b59beb007cee39ba3c",
      "c394d6e015254371ae0d5d8962ca2082",
      "8397e922c8594af589790803b204754f",
      "006a997f0f894aa8b9a52c9743eef88f",
      "42201169f0c747da993873358b4aeadb",
      "cf3ced1ecd2d4760b042bc1ffd77ce12",
      "df057586e2cb46df819669aff09cb308",
      "a0b5709de8b24d4aab9edba6426d2054",
      "28d103b8dcfe4f949d34659975c9a14f",
      "466e553301744963b9564976b7df0c86",
      "d17599be566c4afb9202b172b0863775",
      "a3608f36e8304b13b5ca72bbe8a18685",
      "cd9b85c971c948b99436d90efce51214",
      "6da29dcb050b40c0903e7384986fc1dc",
      "7246fe7bc3854b0aa9340b5f48f65918",
      "044a5d5c9a0d4e2dbddcb5b4a3ad3754",
      "e88c531500274b2681d74f18e316a83f"
     ]
    },
    "id": "vfOaTD5XewX5",
    "outputId": "af768258-b9ca-4c51-9df6-86957e6483f4"
   },
   "outputs": [
    {
     "name": "stdout",
     "output_type": "stream",
     "text": [
      "Downloading https://www.cs.toronto.edu/~kriz/cifar-10-python.tar.gz to cifar10/train/cifar-10-python.tar.gz\n"
     ]
    },
    {
     "data": {
      "application/vnd.jupyter.widget-view+json": {
       "model_id": "5283944647ca41d6b2de71de292df0b3",
       "version_major": 2,
       "version_minor": 0
      },
      "text/plain": [
       "  0%|          | 0/170498071 [00:00<?, ?it/s]"
      ]
     },
     "metadata": {},
     "output_type": "display_data"
    },
    {
     "name": "stdout",
     "output_type": "stream",
     "text": [
      "Extracting cifar10/train/cifar-10-python.tar.gz to cifar10/train/\n",
      "Downloading https://www.cs.toronto.edu/~kriz/cifar-10-python.tar.gz to cifar10/test/cifar-10-python.tar.gz\n"
     ]
    },
    {
     "data": {
      "application/vnd.jupyter.widget-view+json": {
       "model_id": "df057586e2cb46df819669aff09cb308",
       "version_major": 2,
       "version_minor": 0
      },
      "text/plain": [
       "  0%|          | 0/170498071 [00:00<?, ?it/s]"
      ]
     },
     "metadata": {},
     "output_type": "display_data"
    },
    {
     "name": "stdout",
     "output_type": "stream",
     "text": [
      "Extracting cifar10/test/cifar-10-python.tar.gz to cifar10/test/\n",
      "\n",
      "Shape of an image: torch.Size([3, 32, 32]).\n"
     ]
    },
    {
     "data": {
      "image/png": "[encoded data removed]",
      "text/plain": [
       "<Figure size 864x576 with 24 Axes>"
      ]
     },
     "metadata": {
      "needs_background": "light"
     },
     "output_type": "display_data"
    }
   ],
   "source": [
    "normalize_transform = transforms.Compose([\n",
    "    transforms.ToTensor(),\n",
    "    transforms.Normalize(0.5, 0.5)\n",
    "])\n",
    "\n",
    "train_data = CIFAR10(root='cifar10/train/', train=True, download=True, transform=normalize_transform)\n",
    "test_data = CIFAR10(root='cifar10/test/', train=False, download=True, transform=normalize_transform)\n",
    "labels = ['airplane', 'automobile', 'bird', 'cat', 'deer', 'dog', 'frog', 'horse', 'ship', 'truck']\n",
    "\n",
    "x, y = train_data[0]  # get an example from the dataset\n",
    "print(f'\\nShape of an image: {x.shape}.')\n",
    "visualize_dataset(train_data)"
   ]
  },
  {
   "cell_type": "markdown",
   "metadata": {
    "id": "ee653cIJewX6"
   },
   "source": [
    "## Softmax Regression\n",
    "\n",
    "Before considering convolutional neural networks, let us start with a simpler classifier called softmax regression (a.k.a. multinomial logistic regression). Note that even though the name contains \"regression\", this is a classification model.\n",
    "\n",
    "Softmax regression can be understood as a single-layer neural network. We first flatten our input image to a long vector $\\mathbf{x}$, consisting of $32\\cdot 32\\cdot 3 = 3072$ values. Then we predict class probabilities $\\hat{\\mathbf{y}}$ through a fully-connected layer with softmax activation:\n",
    "\n",
    "$$\n",
    "\\mathbf{z} = W \\mathbf{x} + \\mathbf{b} \\\\\n",
    "\\hat{y}_c = \\operatorname{softmax}(\\mathbf{z})_c = \\frac{\\exp{z_c}}{\\sum_{\\tilde{c}=1}^{10} \\exp{z_{\\tilde{c}}}}\n",
    "$$\n",
    "\n",
    "Here $z_c$ denotes the $c$th component of the vector $\\mathbf{z}$, called the vector of **logits**.\n",
    "The weights $W$ and biases $\\mathbf{b}$ will be learned during training.\n",
    "\n",
    "### Training\n",
    "\n",
    "We train the model by minimizing a **loss function** averaged over the training data. As we are tackling a classification problem, the **cross-entropy** is a suitable loss function:\n",
    "\n",
    "$$\n",
    "\\mathcal{L}_{CE}(\\mathbf{y}, \\hat{\\mathbf{y}}; W, \\mathbf{b}) = - \\sum_{c=1}^{10} y_c \\log{\\hat{y}_c}\n",
    "$$\n",
    "\n",
    "Note that in the above notation the ground-truth $\\mathbf{y}$ is a so-called **one-hot vector**, containing a single 1 component, while the remaining components \n",
    "are zeros. The model's predicted $\\hat{\\mathbf{y}}$ is a vector which also sums to one, but whose components all take continuous values in the range $(0, 1)$.\n",
    "\n",
    "We minimize the loss by **stochastic gradient descent** (SGD). That is, we repeatedly sample mini-batches from the training data and update the parameters (weights and biases) towards the direction of the steepest decrease of the loss averaged over the mini-batch. For example, the weight $w_{ij}$ (an element of the matrix $W$) is updated according to:\n",
    "\n",
    "$$\n",
    "w_{ij}^{(t+1)} = w_{ij}^{(t)} - \\eta \\cdot \\frac{\\partial \\mathcal{L}_{CE}} {\\partial w_{ij}},\n",
    "$$\n",
    "\n",
    "with $\\eta$ being the learning rate.\n",
    "\n",
    "----\n",
    "\n",
    "To build such a model in PyTorch, we take a `Sequential` module which accepts layers that are applied sequentially. Here we have two layers: `Flatten` converts the image into a long vector and `Linear` is a synonym for fully-connected layer. At the end we would expect a `Softmax` layer, but this has to be omitted since the PyTorch-implementation of cross-entropy already performs the softmax implicitly. If you check the equations above, you see why this is advantageous: the cross-entropy applies a $\\log$ to the $\\exp$ of the softmax, which cancel out. By doing both at once, we avoid unnecessary computations and reduce the risk of numerical issues.\n",
    "\n",
    "We further define the function `train_classifier` which performs the training process. These are the main steps:\n",
    "\n",
    "* Instantiate a `DataLoader` for each dataset split which shuffles the order of the data and creates minibatches.\n",
    "* Instantiate the `CrossEntropyLoss`. Note, that this loss implicitely computes the softmax.\n",
    "* Iterate over the epochs:\n",
    "  * Do the training loop:\n",
    "    * Pass the image batch through the model.\n",
    "    * Compute the loss.\n",
    "    * Backpropagate the loss (this computes the gradients for each parameter).\n",
    "    * Do an optimizer step (this updates the model parameters).\n",
    "    * Clear the computed gradients.\n",
    "  * Do a testing loop.\n",
    "  \n",
    "During this process, several statistics (loss/accuracy for train/test) are computed, printed and written to TensorBoard. The function also supports specifying a learning rate scheduler, which we will use at the end of this exercise."
   ]
  },
  {
   "cell_type": "code",
   "execution_count": 5,
   "metadata": {
    "id": "7o5Y1-oeewX7"
   },
   "outputs": [],
   "source": [
    "def train_classifier(model,\n",
    "                     opt,\n",
    "                     logdir,\n",
    "                     train_data=train_data,\n",
    "                     test_data=test_data,\n",
    "                     batch_size=128,\n",
    "                     n_epochs=50,\n",
    "                     lr_scheduler=None\n",
    "                    ):\n",
    "    \n",
    "    writer = SummaryWriter(f\"{LOG_ROOT}/{logdir}-{time.strftime('%y%m%d_%H%M%S')}\")\n",
    "    layout = {\n",
    "        'Losses': {'losses': ['Multiline', ['loss/train', 'loss/test']]},\n",
    "        'Accuracy': {'accuracy': ['Multiline', ['accuracy/train', 'accuracy/test']]}\n",
    "    }\n",
    "    writer.add_custom_scalars(layout)\n",
    "    \n",
    "    train_loader = DataLoader(train_data, batch_size=batch_size, shuffle=True, num_workers=6)\n",
    "    test_loader = DataLoader(test_data, batch_size=batch_size, shuffle=True, num_workers=6)\n",
    "    \n",
    "    criterion = nn.CrossEntropyLoss()\n",
    "    \n",
    "    start = time.time()\n",
    "    \n",
    "    for epoch in range(n_epochs):\n",
    "        sample_count = 0\n",
    "        loss_sum = 0\n",
    "        correct = 0\n",
    "        n_batches = len(train_loader)\n",
    "        model.train()\n",
    "        for i, (xs, ys) in enumerate(train_loader):\n",
    "            if USE_GPU:\n",
    "                xs = xs.cuda()\n",
    "                ys = ys.cuda()\n",
    "            out = model(xs)\n",
    "            loss = criterion(out, ys)\n",
    "            loss.backward()\n",
    "            opt.step()\n",
    "            opt.zero_grad()\n",
    "            \n",
    "            loss_sum += loss.item() * xs.shape[0]\n",
    "            _, pred = torch.max(out, 1)\n",
    "            correct += (pred == ys).sum().item()\n",
    "            sample_count += xs.shape[0]\n",
    "            print(f'Train epoch {epoch+1}, step {i+1}/{n_batches}', end='    \\r')\n",
    "\n",
    "        train_loss = loss_sum / sample_count\n",
    "        train_accuracy = correct / sample_count\n",
    "        \n",
    "        with torch.no_grad():  # do not store gradients during testing, decreases memory consumption\n",
    "            sample_count = 0\n",
    "            loss_sum = 0\n",
    "            correct = 0\n",
    "            n_batches = len(test_loader)\n",
    "            model.eval()\n",
    "            for i, (xs, ys) in enumerate(test_loader):\n",
    "                if USE_GPU:\n",
    "                    xs = xs.cuda()\n",
    "                    ys = ys.cuda()\n",
    "                out = model(xs)\n",
    "                loss = criterion(out, ys)\n",
    "                loss_sum += loss.item() * xs.shape[0]\n",
    "                _, pred = torch.max(out, 1)\n",
    "                correct += (pred == ys).sum().item()\n",
    "                sample_count += xs.shape[0]\n",
    "                print(f'Test epoch {epoch+1}, step {i+1}/{n_batches}', end='    \\r')\n",
    "                \n",
    "            test_loss = loss_sum / sample_count\n",
    "            test_accuracy = correct / sample_count\n",
    "        \n",
    "        writer.add_scalar('loss/train', train_loss, epoch+1)\n",
    "        writer.add_scalar('accuracy/train', train_accuracy, epoch+1)\n",
    "        writer.add_scalar('loss/test', test_loss, epoch+1)\n",
    "        writer.add_scalar('accuracy/test', test_accuracy, epoch+1)\n",
    "            \n",
    "        if lr_scheduler is not None:\n",
    "            lr_scheduler.step()\n",
    "            writer.add_scalar('lr', opt.param_groups[0]['lr'], epoch+1)\n",
    "            \n",
    "        print(\n",
    "            f'Epoch {epoch+1} | train loss: {train_loss:.3f}, train accuracy: {train_accuracy:.3f}, ' + \\\n",
    "            f'test loss: {test_loss:.3f}, test accuracy: {test_accuracy:.3f}, ' + \\\n",
    "            f'time: {str(datetime.timedelta(seconds=int(time.time()-start)))}'\n",
    "        )"
   ]
  },
  {
   "cell_type": "code",
   "execution_count": 6,
   "metadata": {
    "colab": {
     "base_uri": "https://localhost:8080/"
    },
    "id": "KtLDErGJewX8",
    "outputId": "c49265b5-e42e-49ba-c705-ab89cdc082ad"
   },
   "outputs": [
    {
     "name": "stderr",
     "output_type": "stream",
     "text": [
      "/usr/local/lib/python3.7/dist-packages/torch/utils/data/dataloader.py:490: UserWarning: This DataLoader will create 6 worker processes in total. Our suggested max number of worker in current system is 2, which is smaller than what this DataLoader is going to create. Please be aware that excessive worker creation might get DataLoader running slow or even freeze, lower the worker number to avoid potential slowness/freeze if necessary.\n",
      "  cpuset_checked))\n"
     ]
    },
    {
     "name": "stdout",
     "output_type": "stream",
     "text": [
      "Epoch 1 | train loss: 1.873, train accuracy: 0.355, test loss: 1.798, test accuracy: 0.386, time: 0:00:15\n",
      "Epoch 2 | train loss: 1.779, train accuracy: 0.394, test loss: 1.760, test accuracy: 0.397, time: 0:00:27\n",
      "Epoch 3 | train loss: 1.750, train accuracy: 0.406, test loss: 1.744, test accuracy: 0.405, time: 0:00:39\n",
      "Epoch 4 | train loss: 1.732, train accuracy: 0.413, test loss: 1.735, test accuracy: 0.405, time: 0:00:50\n",
      "Epoch 5 | train loss: 1.719, train accuracy: 0.417, test loss: 1.731, test accuracy: 0.406, time: 0:01:02\n",
      "Epoch 6 | train loss: 1.709, train accuracy: 0.419, test loss: 1.727, test accuracy: 0.407, time: 0:01:14\n",
      "Epoch 7 | train loss: 1.701, train accuracy: 0.423, test loss: 1.725, test accuracy: 0.407, time: 0:01:26\n",
      "Epoch 8 | train loss: 1.694, train accuracy: 0.426, test loss: 1.725, test accuracy: 0.403, time: 0:01:39\n",
      "Epoch 9 | train loss: 1.689, train accuracy: 0.427, test loss: 1.711, test accuracy: 0.410, time: 0:01:51\n",
      "Epoch 10 | train loss: 1.684, train accuracy: 0.429, test loss: 1.715, test accuracy: 0.409, time: 0:02:03\n",
      "Epoch 11 | train loss: 1.679, train accuracy: 0.430, test loss: 1.714, test accuracy: 0.413, time: 0:02:15\n",
      "Epoch 12 | train loss: 1.676, train accuracy: 0.432, test loss: 1.720, test accuracy: 0.405, time: 0:02:27\n",
      "Epoch 13 | train loss: 1.673, train accuracy: 0.433, test loss: 1.712, test accuracy: 0.409, time: 0:02:39\n",
      "Epoch 14 | train loss: 1.670, train accuracy: 0.433, test loss: 1.715, test accuracy: 0.411, time: 0:02:51\n",
      "Epoch 15 | train loss: 1.667, train accuracy: 0.435, test loss: 1.706, test accuracy: 0.414, time: 0:03:02\n",
      "Epoch 16 | train loss: 1.664, train accuracy: 0.436, test loss: 1.709, test accuracy: 0.413, time: 0:03:15\n",
      "Epoch 17 | train loss: 1.662, train accuracy: 0.437, test loss: 1.708, test accuracy: 0.414, time: 0:03:27\n",
      "Epoch 18 | train loss: 1.660, train accuracy: 0.437, test loss: 1.709, test accuracy: 0.411, time: 0:03:38\n",
      "Epoch 19 | train loss: 1.658, train accuracy: 0.439, test loss: 1.711, test accuracy: 0.407, time: 0:03:50\n",
      "Epoch 20 | train loss: 1.657, train accuracy: 0.439, test loss: 1.711, test accuracy: 0.409, time: 0:04:02\n",
      "Epoch 21 | train loss: 1.654, train accuracy: 0.440, test loss: 1.709, test accuracy: 0.410, time: 0:04:13\n",
      "Epoch 22 | train loss: 1.652, train accuracy: 0.442, test loss: 1.712, test accuracy: 0.412, time: 0:04:25\n",
      "Epoch 23 | train loss: 1.651, train accuracy: 0.441, test loss: 1.708, test accuracy: 0.413, time: 0:04:37\n",
      "Epoch 24 | train loss: 1.649, train accuracy: 0.440, test loss: 1.707, test accuracy: 0.412, time: 0:04:49\n",
      "Epoch 25 | train loss: 1.648, train accuracy: 0.443, test loss: 1.720, test accuracy: 0.406, time: 0:05:01\n",
      "Epoch 26 | train loss: 1.646, train accuracy: 0.443, test loss: 1.711, test accuracy: 0.410, time: 0:05:12\n",
      "Epoch 27 | train loss: 1.645, train accuracy: 0.444, test loss: 1.714, test accuracy: 0.408, time: 0:05:24\n",
      "Epoch 28 | train loss: 1.644, train accuracy: 0.443, test loss: 1.710, test accuracy: 0.411, time: 0:05:36\n",
      "Epoch 29 | train loss: 1.643, train accuracy: 0.444, test loss: 1.715, test accuracy: 0.408, time: 0:05:47\n",
      "Epoch 30 | train loss: 1.641, train accuracy: 0.444, test loss: 1.708, test accuracy: 0.415, time: 0:05:59\n",
      "Epoch 31 | train loss: 1.641, train accuracy: 0.445, test loss: 1.710, test accuracy: 0.408, time: 0:06:11\n",
      "Epoch 32 | train loss: 1.639, train accuracy: 0.447, test loss: 1.716, test accuracy: 0.409, time: 0:06:23\n",
      "Epoch 33 | train loss: 1.639, train accuracy: 0.445, test loss: 1.714, test accuracy: 0.410, time: 0:06:34\n",
      "Epoch 34 | train loss: 1.637, train accuracy: 0.447, test loss: 1.713, test accuracy: 0.408, time: 0:06:46\n",
      "Epoch 35 | train loss: 1.636, train accuracy: 0.447, test loss: 1.718, test accuracy: 0.410, time: 0:06:58\n",
      "Epoch 36 | train loss: 1.636, train accuracy: 0.447, test loss: 1.715, test accuracy: 0.410, time: 0:07:10\n",
      "Epoch 37 | train loss: 1.635, train accuracy: 0.445, test loss: 1.720, test accuracy: 0.409, time: 0:07:22\n",
      "Epoch 38 | train loss: 1.634, train accuracy: 0.447, test loss: 1.712, test accuracy: 0.413, time: 0:07:34\n",
      "Epoch 39 | train loss: 1.632, train accuracy: 0.448, test loss: 1.717, test accuracy: 0.410, time: 0:07:46\n",
      "Epoch 40 | train loss: 1.632, train accuracy: 0.446, test loss: 1.714, test accuracy: 0.411, time: 0:07:58\n",
      "Epoch 41 | train loss: 1.631, train accuracy: 0.448, test loss: 1.715, test accuracy: 0.411, time: 0:08:10\n",
      "Epoch 42 | train loss: 1.630, train accuracy: 0.448, test loss: 1.710, test accuracy: 0.412, time: 0:08:21\n",
      "Epoch 43 | train loss: 1.630, train accuracy: 0.448, test loss: 1.716, test accuracy: 0.410, time: 0:08:33\n",
      "Epoch 44 | train loss: 1.629, train accuracy: 0.448, test loss: 1.718, test accuracy: 0.408, time: 0:08:45\n",
      "Epoch 45 | train loss: 1.628, train accuracy: 0.449, test loss: 1.714, test accuracy: 0.411, time: 0:08:57\n",
      "Epoch 46 | train loss: 1.627, train accuracy: 0.450, test loss: 1.722, test accuracy: 0.407, time: 0:09:09\n",
      "Epoch 47 | train loss: 1.627, train accuracy: 0.448, test loss: 1.717, test accuracy: 0.407, time: 0:09:21\n",
      "Epoch 48 | train loss: 1.626, train accuracy: 0.450, test loss: 1.715, test accuracy: 0.410, time: 0:09:32\n",
      "Epoch 49 | train loss: 1.626, train accuracy: 0.450, test loss: 1.717, test accuracy: 0.407, time: 0:09:44\n",
      "Epoch 50 | train loss: 1.625, train accuracy: 0.450, test loss: 1.723, test accuracy: 0.407, time: 0:09:56\n"
     ]
    }
   ],
   "source": [
    "softmax_regression = nn.Sequential(\n",
    "    nn.Flatten(),\n",
    "    nn.Linear(in_features=3072, out_features=10)\n",
    ")\n",
    "if USE_GPU:\n",
    "    softmax_regression.cuda()\n",
    "\n",
    "opt = optim.SGD(softmax_regression.parameters(), lr=1e-2)\n",
    "train_classifier(softmax_regression, opt, 'softmax_regression')"
   ]
  },
  {
   "cell_type": "markdown",
   "metadata": {
    "id": "4drjNoiWewX8"
   },
   "source": [
    "(Jupyter Notebook Tip: you can collapse or hide the output by clicking or double clicking the area directly to the left of the output.)\n",
    "\n",
    "You can check the how the loss and accuracy (= proportion of correctly predicted classes) change over the course of training in TensorBoard. What do you observe?"
   ]
  },
  {
   "cell_type": "markdown",
   "metadata": {
    "id": "tdQYcxZvewX9"
   },
   "source": [
    "*POINTS: 0*\n",
    "\n",
    "YOUR ANSWER HERE"
   ]
  },
  {
   "cell_type": "markdown",
   "metadata": {
    "id": "YtCEMGU1ewX9"
   },
   "source": [
    "## Adam Optimizer\n",
    "\n",
    "There has been a lot of research on improving on the simple stochastic gradient descent algorithm we used above. One of the most popular variants is called **Adam** (https://arxiv.org/abs/1412.6980, \"adaptive moment estimation\"). Its learning rate usually requires less precise tuning, and something in the range of $(10^{-4},10^{-3})$ often works well in practice. Intuitively, this is because the algorithm automatically adapts the learning rate for each weight depending on the gradients.\n",
    "\n",
    "You can run it as follows. The difference is not large for such a simple model, but it makes a bigger difference for larger networks."
   ]
  },
  {
   "cell_type": "code",
   "execution_count": 7,
   "metadata": {
    "colab": {
     "base_uri": "https://localhost:8080/"
    },
    "id": "5a8jwj3SewX9",
    "outputId": "603bd904-030d-4632-ab56-2c50a3800834"
   },
   "outputs": [
    {
     "name": "stderr",
     "output_type": "stream",
     "text": [
      "/usr/local/lib/python3.7/dist-packages/torch/utils/data/dataloader.py:490: UserWarning: This DataLoader will create 6 worker processes in total. Our suggested max number of worker in current system is 2, which is smaller than what this DataLoader is going to create. Please be aware that excessive worker creation might get DataLoader running slow or even freeze, lower the worker number to avoid potential slowness/freeze if necessary.\n",
      "  cpuset_checked))\n"
     ]
    },
    {
     "name": "stdout",
     "output_type": "stream",
     "text": [
      "Epoch 1 | train loss: 1.858, train accuracy: 0.360, test loss: 1.792, test accuracy: 0.378, time: 0:00:11\n",
      "Epoch 2 | train loss: 1.768, train accuracy: 0.399, test loss: 1.755, test accuracy: 0.394, time: 0:00:23\n",
      "Epoch 3 | train loss: 1.740, train accuracy: 0.408, test loss: 1.744, test accuracy: 0.399, time: 0:00:35\n",
      "Epoch 4 | train loss: 1.722, train accuracy: 0.416, test loss: 1.731, test accuracy: 0.407, time: 0:00:47\n",
      "Epoch 5 | train loss: 1.711, train accuracy: 0.419, test loss: 1.727, test accuracy: 0.404, time: 0:00:59\n",
      "Epoch 6 | train loss: 1.701, train accuracy: 0.421, test loss: 1.725, test accuracy: 0.406, time: 0:01:11\n",
      "Epoch 7 | train loss: 1.694, train accuracy: 0.425, test loss: 1.730, test accuracy: 0.400, time: 0:01:23\n",
      "Epoch 8 | train loss: 1.686, train accuracy: 0.430, test loss: 1.723, test accuracy: 0.404, time: 0:01:35\n",
      "Epoch 9 | train loss: 1.682, train accuracy: 0.427, test loss: 1.716, test accuracy: 0.412, time: 0:01:48\n",
      "Epoch 10 | train loss: 1.675, train accuracy: 0.431, test loss: 1.714, test accuracy: 0.413, time: 0:02:00\n",
      "Epoch 11 | train loss: 1.672, train accuracy: 0.434, test loss: 1.721, test accuracy: 0.410, time: 0:02:11\n",
      "Epoch 12 | train loss: 1.668, train accuracy: 0.435, test loss: 1.712, test accuracy: 0.409, time: 0:02:23\n",
      "Epoch 13 | train loss: 1.665, train accuracy: 0.435, test loss: 1.716, test accuracy: 0.411, time: 0:02:35\n",
      "Epoch 14 | train loss: 1.662, train accuracy: 0.438, test loss: 1.718, test accuracy: 0.407, time: 0:02:47\n",
      "Epoch 15 | train loss: 1.660, train accuracy: 0.438, test loss: 1.715, test accuracy: 0.410, time: 0:02:59\n",
      "Epoch 16 | train loss: 1.656, train accuracy: 0.438, test loss: 1.713, test accuracy: 0.412, time: 0:03:10\n",
      "Epoch 17 | train loss: 1.654, train accuracy: 0.438, test loss: 1.715, test accuracy: 0.411, time: 0:03:22\n",
      "Epoch 18 | train loss: 1.652, train accuracy: 0.441, test loss: 1.721, test accuracy: 0.409, time: 0:03:34\n",
      "Epoch 19 | train loss: 1.649, train accuracy: 0.440, test loss: 1.717, test accuracy: 0.407, time: 0:03:46\n",
      "Epoch 20 | train loss: 1.648, train accuracy: 0.441, test loss: 1.719, test accuracy: 0.411, time: 0:03:58\n",
      "Epoch 21 | train loss: 1.646, train accuracy: 0.442, test loss: 1.721, test accuracy: 0.407, time: 0:04:09\n",
      "Epoch 22 | train loss: 1.644, train accuracy: 0.444, test loss: 1.714, test accuracy: 0.408, time: 0:04:21\n",
      "Epoch 23 | train loss: 1.643, train accuracy: 0.443, test loss: 1.722, test accuracy: 0.403, time: 0:04:33\n",
      "Epoch 24 | train loss: 1.641, train accuracy: 0.446, test loss: 1.717, test accuracy: 0.409, time: 0:04:45\n",
      "Epoch 25 | train loss: 1.639, train accuracy: 0.443, test loss: 1.719, test accuracy: 0.408, time: 0:04:57\n",
      "Epoch 26 | train loss: 1.638, train accuracy: 0.444, test loss: 1.718, test accuracy: 0.411, time: 0:05:09\n",
      "Epoch 27 | train loss: 1.637, train accuracy: 0.446, test loss: 1.718, test accuracy: 0.408, time: 0:05:21\n",
      "Epoch 28 | train loss: 1.635, train accuracy: 0.445, test loss: 1.720, test accuracy: 0.408, time: 0:05:33\n",
      "Epoch 29 | train loss: 1.635, train accuracy: 0.445, test loss: 1.723, test accuracy: 0.406, time: 0:05:45\n",
      "Epoch 30 | train loss: 1.634, train accuracy: 0.447, test loss: 1.721, test accuracy: 0.406, time: 0:05:57\n",
      "Epoch 31 | train loss: 1.633, train accuracy: 0.448, test loss: 1.723, test accuracy: 0.406, time: 0:06:08\n",
      "Epoch 32 | train loss: 1.631, train accuracy: 0.448, test loss: 1.720, test accuracy: 0.411, time: 0:06:20\n",
      "Epoch 33 | train loss: 1.631, train accuracy: 0.447, test loss: 1.721, test accuracy: 0.406, time: 0:06:32\n",
      "Epoch 34 | train loss: 1.630, train accuracy: 0.447, test loss: 1.725, test accuracy: 0.402, time: 0:06:43\n",
      "Epoch 35 | train loss: 1.627, train accuracy: 0.449, test loss: 1.729, test accuracy: 0.404, time: 0:06:55\n",
      "Epoch 36 | train loss: 1.626, train accuracy: 0.450, test loss: 1.722, test accuracy: 0.404, time: 0:07:07\n",
      "Epoch 37 | train loss: 1.627, train accuracy: 0.448, test loss: 1.723, test accuracy: 0.408, time: 0:07:19\n",
      "Epoch 38 | train loss: 1.625, train accuracy: 0.449, test loss: 1.725, test accuracy: 0.406, time: 0:07:31\n",
      "Epoch 39 | train loss: 1.624, train accuracy: 0.450, test loss: 1.728, test accuracy: 0.401, time: 0:07:43\n",
      "Epoch 40 | train loss: 1.624, train accuracy: 0.451, test loss: 1.733, test accuracy: 0.404, time: 0:07:54\n",
      "Epoch 41 | train loss: 1.623, train accuracy: 0.450, test loss: 1.724, test accuracy: 0.411, time: 0:08:06\n",
      "Epoch 42 | train loss: 1.622, train accuracy: 0.452, test loss: 1.729, test accuracy: 0.406, time: 0:08:18\n",
      "Epoch 43 | train loss: 1.620, train accuracy: 0.453, test loss: 1.737, test accuracy: 0.403, time: 0:08:30\n",
      "Epoch 44 | train loss: 1.620, train accuracy: 0.451, test loss: 1.731, test accuracy: 0.402, time: 0:08:42\n",
      "Epoch 45 | train loss: 1.620, train accuracy: 0.451, test loss: 1.728, test accuracy: 0.409, time: 0:08:53\n",
      "Epoch 46 | train loss: 1.619, train accuracy: 0.453, test loss: 1.730, test accuracy: 0.398, time: 0:09:05\n",
      "Epoch 47 | train loss: 1.619, train accuracy: 0.452, test loss: 1.727, test accuracy: 0.405, time: 0:09:17\n",
      "Epoch 48 | train loss: 1.618, train accuracy: 0.451, test loss: 1.732, test accuracy: 0.406, time: 0:09:29\n",
      "Epoch 49 | train loss: 1.617, train accuracy: 0.453, test loss: 1.732, test accuracy: 0.401, time: 0:09:40\n",
      "Epoch 50 | train loss: 1.616, train accuracy: 0.454, test loss: 1.732, test accuracy: 0.401, time: 0:09:52\n"
     ]
    }
   ],
   "source": [
    "softmax_regression_adam = nn.Sequential(\n",
    "    nn.Flatten(),\n",
    "    nn.Linear(in_features=3072, out_features=10)\n",
    ")\n",
    "if USE_GPU:\n",
    "    softmax_regression_adam.cuda()\n",
    "    \n",
    "opt = optim.Adam(softmax_regression_adam.parameters(), lr=2e-4)\n",
    "train_classifier(softmax_regression_adam, opt, 'softmax_regression_adam')"
   ]
  },
  {
   "cell_type": "markdown",
   "metadata": {
    "id": "g-7jJkicewX-"
   },
   "source": [
    "## Interpreting the Learned Weights\n",
    "\n",
    "Multiplication by the weights $W$ can be interpreted as computing responses to correlation templates per image class.\n",
    "\n",
    "That means, we can reshape the weight array $W$ to a obtain \"template images\".\n",
    "\n",
    "Perform this reshaping to visualize the resulting templates."
   ]
  },
  {
   "cell_type": "code",
   "execution_count": 8,
   "metadata": {
    "colab": {
     "base_uri": "https://localhost:8080/",
     "height": 317
    },
    "id": "A_MwtyNfewX-",
    "outputId": "a6be06d4-1f11-44f0-b7ca-e9617e484094"
   },
   "outputs": [
    {
     "name": "stdout",
     "output_type": "stream",
     "text": [
      "torch.Size([10, 3072])\n"
     ]
    },
    {
     "data": {
      "image/png": "[encoded data removed]",
      "text/plain": [
       "<Figure size 720x288 with 10 Axes>"
      ]
     },
     "metadata": {
      "needs_background": "light"
     },
     "output_type": "display_data"
    }
   ],
   "source": [
    "# POINTS: 2\n",
    "\n",
    "W = softmax_regression[1].weight.data\n",
    "\n",
    "print(W.shape)\n",
    "# Use W to create the `templates` variable with dimensions [10 (class count), 3 (rgb), height, width]\n",
    "# YOUR CODE HERE\n",
    "a=W.shape[0]\n",
    "Class=np.zeros((3,32,32))\n",
    "templates=np.reshape(W.cpu(),(10,3,32,32))\n",
    "\n",
    "# We normalize the templates for visualization\n",
    "mini = templates.min()\n",
    "maxi = templates.max()\n",
    "rescaled_templates = (templates - mini) / (maxi - mini)\n",
    "plot_multiple(rescaled_templates.cpu(), labels, max_columns=5)"
   ]
  },
  {
   "cell_type": "markdown",
   "metadata": {
    "id": "-sq3Kk73ewX-"
   },
   "source": [
    "Do they look as you would expect?"
   ]
  },
  {
   "cell_type": "markdown",
   "metadata": {
    "id": "pIkrtO4BewX_"
   },
   "source": [
    "*POINTS: 0*\n",
    "\n",
    "YOUR ANSWER HERE"
   ]
  },
  {
   "cell_type": "markdown",
   "metadata": {
    "id": "t_fe_u_vewX_"
   },
   "source": [
    "## Multi-Layer Perceptron\n",
    "\n",
    "Softmax regression has a big limitation: the decision surface between any two classes (i.e. the part of the input space where the classification decision changes from one class to another) is a simple hyperplane (\"flat\").\n",
    "\n",
    "The **multi-layer perceptron** (MLP) is a neural network model with additional layer(s) between the input and the logits (so-called hidden layers), with nonlinear activation functions. Why are activation functions needed?\n",
    "\n",
    "Before the current generation of neural networks, the **hyperbolic tangent** (tanh) function used to be the preferred activation function in the hidden layers of MLPs. It is sigmoid shaped and has a range of $(-1,1)$. We can create such a network in PyTorch as follows."
   ]
  },
  {
   "cell_type": "code",
   "execution_count": 9,
   "metadata": {
    "colab": {
     "base_uri": "https://localhost:8080/"
    },
    "id": "e1ukRh3xewX_",
    "outputId": "7da1cca1-bfbc-4b85-edc2-147dc8160f66"
   },
   "outputs": [
    {
     "name": "stderr",
     "output_type": "stream",
     "text": [
      "/usr/local/lib/python3.7/dist-packages/torch/utils/data/dataloader.py:490: UserWarning: This DataLoader will create 6 worker processes in total. Our suggested max number of worker in current system is 2, which is smaller than what this DataLoader is going to create. Please be aware that excessive worker creation might get DataLoader running slow or even freeze, lower the worker number to avoid potential slowness/freeze if necessary.\n",
      "  cpuset_checked))\n"
     ]
    },
    {
     "name": "stdout",
     "output_type": "stream",
     "text": [
      "Epoch 1 | train loss: 1.782, train accuracy: 0.384, test loss: 1.696, test accuracy: 0.421, time: 0:00:12\n",
      "Epoch 2 | train loss: 1.641, train accuracy: 0.438, test loss: 1.629, test accuracy: 0.442, time: 0:00:24\n",
      "Epoch 3 | train loss: 1.563, train accuracy: 0.468, test loss: 1.587, test accuracy: 0.456, time: 0:00:36\n",
      "Epoch 4 | train loss: 1.498, train accuracy: 0.493, test loss: 1.559, test accuracy: 0.469, time: 0:00:48\n",
      "Epoch 5 | train loss: 1.439, train accuracy: 0.514, test loss: 1.519, test accuracy: 0.478, time: 0:01:00\n",
      "Epoch 6 | train loss: 1.386, train accuracy: 0.535, test loss: 1.504, test accuracy: 0.484, time: 0:01:12\n",
      "Epoch 7 | train loss: 1.331, train accuracy: 0.555, test loss: 1.485, test accuracy: 0.492, time: 0:01:24\n",
      "Epoch 8 | train loss: 1.283, train accuracy: 0.572, test loss: 1.468, test accuracy: 0.498, time: 0:01:35\n",
      "Epoch 9 | train loss: 1.233, train accuracy: 0.592, test loss: 1.461, test accuracy: 0.499, time: 0:01:47\n",
      "Epoch 10 | train loss: 1.186, train accuracy: 0.608, test loss: 1.442, test accuracy: 0.506, time: 0:01:59\n",
      "Epoch 11 | train loss: 1.139, train accuracy: 0.628, test loss: 1.449, test accuracy: 0.507, time: 0:02:11\n",
      "Epoch 12 | train loss: 1.097, train accuracy: 0.643, test loss: 1.444, test accuracy: 0.505, time: 0:02:23\n",
      "Epoch 13 | train loss: 1.051, train accuracy: 0.661, test loss: 1.450, test accuracy: 0.505, time: 0:02:35\n",
      "Epoch 14 | train loss: 1.007, train accuracy: 0.678, test loss: 1.441, test accuracy: 0.511, time: 0:02:47\n",
      "Epoch 15 | train loss: 0.966, train accuracy: 0.692, test loss: 1.450, test accuracy: 0.508, time: 0:02:59\n",
      "Epoch 16 | train loss: 0.925, train accuracy: 0.708, test loss: 1.441, test accuracy: 0.512, time: 0:03:11\n",
      "Epoch 17 | train loss: 0.884, train accuracy: 0.725, test loss: 1.458, test accuracy: 0.508, time: 0:03:23\n",
      "Epoch 18 | train loss: 0.846, train accuracy: 0.738, test loss: 1.461, test accuracy: 0.513, time: 0:03:34\n",
      "Epoch 19 | train loss: 0.808, train accuracy: 0.752, test loss: 1.467, test accuracy: 0.507, time: 0:03:46\n",
      "Epoch 20 | train loss: 0.773, train accuracy: 0.769, test loss: 1.466, test accuracy: 0.508, time: 0:03:58\n",
      "Epoch 21 | train loss: 0.737, train accuracy: 0.780, test loss: 1.475, test accuracy: 0.511, time: 0:04:10\n",
      "Epoch 22 | train loss: 0.702, train accuracy: 0.795, test loss: 1.502, test accuracy: 0.501, time: 0:04:23\n",
      "Epoch 23 | train loss: 0.669, train accuracy: 0.807, test loss: 1.519, test accuracy: 0.507, time: 0:04:35\n",
      "Epoch 24 | train loss: 0.637, train accuracy: 0.821, test loss: 1.523, test accuracy: 0.502, time: 0:04:47\n",
      "Epoch 25 | train loss: 0.605, train accuracy: 0.832, test loss: 1.529, test accuracy: 0.501, time: 0:04:59\n",
      "Epoch 26 | train loss: 0.577, train accuracy: 0.841, test loss: 1.537, test accuracy: 0.503, time: 0:05:11\n",
      "Epoch 27 | train loss: 0.549, train accuracy: 0.852, test loss: 1.554, test accuracy: 0.501, time: 0:05:22\n",
      "Epoch 28 | train loss: 0.522, train accuracy: 0.862, test loss: 1.562, test accuracy: 0.506, time: 0:05:34\n",
      "Epoch 29 | train loss: 0.495, train accuracy: 0.872, test loss: 1.589, test accuracy: 0.496, time: 0:05:46\n",
      "Epoch 30 | train loss: 0.471, train accuracy: 0.881, test loss: 1.591, test accuracy: 0.502, time: 0:05:58\n",
      "Epoch 31 | train loss: 0.445, train accuracy: 0.891, test loss: 1.614, test accuracy: 0.497, time: 0:06:10\n",
      "Epoch 32 | train loss: 0.421, train accuracy: 0.898, test loss: 1.645, test accuracy: 0.493, time: 0:06:21\n",
      "Epoch 33 | train loss: 0.399, train accuracy: 0.906, test loss: 1.644, test accuracy: 0.497, time: 0:06:33\n",
      "Epoch 34 | train loss: 0.375, train accuracy: 0.914, test loss: 1.655, test accuracy: 0.499, time: 0:06:45\n",
      "Epoch 35 | train loss: 0.357, train accuracy: 0.920, test loss: 1.680, test accuracy: 0.498, time: 0:06:57\n",
      "Epoch 36 | train loss: 0.338, train accuracy: 0.926, test loss: 1.696, test accuracy: 0.499, time: 0:07:09\n",
      "Epoch 37 | train loss: 0.318, train accuracy: 0.933, test loss: 1.719, test accuracy: 0.492, time: 0:07:21\n",
      "Epoch 38 | train loss: 0.300, train accuracy: 0.938, test loss: 1.735, test accuracy: 0.495, time: 0:07:32\n",
      "Epoch 39 | train loss: 0.284, train accuracy: 0.943, test loss: 1.751, test accuracy: 0.493, time: 0:07:44\n",
      "Epoch 40 | train loss: 0.267, train accuracy: 0.949, test loss: 1.772, test accuracy: 0.490, time: 0:07:56\n",
      "Epoch 41 | train loss: 0.251, train accuracy: 0.954, test loss: 1.802, test accuracy: 0.490, time: 0:08:08\n",
      "Epoch 42 | train loss: 0.235, train accuracy: 0.958, test loss: 1.812, test accuracy: 0.495, time: 0:08:22\n",
      "Epoch 43 | train loss: 0.224, train accuracy: 0.960, test loss: 1.835, test accuracy: 0.487, time: 0:08:35\n",
      "Epoch 44 | train loss: 0.208, train accuracy: 0.966, test loss: 1.849, test accuracy: 0.489, time: 0:08:47\n",
      "Epoch 45 | train loss: 0.198, train accuracy: 0.968, test loss: 1.870, test accuracy: 0.492, time: 0:08:59\n",
      "Epoch 46 | train loss: 0.184, train accuracy: 0.971, test loss: 1.904, test accuracy: 0.484, time: 0:09:10\n",
      "Epoch 47 | train loss: 0.175, train accuracy: 0.973, test loss: 1.923, test accuracy: 0.493, time: 0:09:22\n",
      "Epoch 48 | train loss: 0.162, train accuracy: 0.977, test loss: 1.945, test accuracy: 0.488, time: 0:09:34\n",
      "Epoch 49 | train loss: 0.151, train accuracy: 0.979, test loss: 1.950, test accuracy: 0.485, time: 0:09:46\n",
      "Epoch 50 | train loss: 0.143, train accuracy: 0.981, test loss: 1.981, test accuracy: 0.489, time: 0:09:58\n"
     ]
    }
   ],
   "source": [
    "tanh_mlp = nn.Sequential(\n",
    "    nn.Flatten(),\n",
    "    nn.Linear(in_features=3072, out_features=512),\n",
    "    nn.Tanh(),\n",
    "    nn.Linear(in_features=512, out_features=10)\n",
    ")\n",
    "if USE_GPU:\n",
    "    tanh_mlp.cuda()\n",
    "    \n",
    "opt = optim.Adam(tanh_mlp.parameters(), lr=2e-4)\n",
    "train_classifier(tanh_mlp, opt, f'tanh_mlp')"
   ]
  },
  {
   "cell_type": "markdown",
   "metadata": {
    "id": "giw2jrhJewX_"
   },
   "source": [
    "Does it obtain better results than the linear model? What do you observe if you compare the accuracy curves for training and testing?\n",
    "\n",
    "How and why does the behaviour of the test loss differ from the test accuracy?"
   ]
  },
  {
   "cell_type": "markdown",
   "metadata": {
    "id": "MBE-Ci_6ewYA"
   },
   "source": [
    "*POINTS: 0*\n",
    "\n",
    "YOUR ANSWER HERE"
   ]
  },
  {
   "cell_type": "markdown",
   "metadata": {
    "id": "GfLpXCqTewYA"
   },
   "source": [
    "## Data Augmentation\n",
    "\n",
    "To avoid this effect, we can use data augmentation. By applying small changes to the training samples, we can virtually increase the size of the dataset such that the model cannot memorize training samples as easily.\n",
    "\n",
    "Have a look at the `torchvision.transforms` module of torchvision and add the following augmentations below:\n",
    "\n",
    "* shift the images randomly horizontally and vertically by up to 10% of the height and width\n",
    "* scale the images randomly between 90% and 110%\n",
    "* mirror the images such that the right and the left side are swapped in 50% of the cases"
   ]
  },
  {
   "cell_type": "code",
   "execution_count": 10,
   "metadata": {
    "colab": {
     "base_uri": "https://localhost:8080/",
     "height": 602
    },
    "id": "v6IRbpUpewYA",
    "outputId": "a409ef20-d674-4591-a813-f64f6e110c81"
   },
   "outputs": [
    {
     "name": "stdout",
     "output_type": "stream",
     "text": [
      "Files already downloaded and verified\n"
     ]
    },
    {
     "data": {
      "image/png": "[encoded data removed]",
      "text/plain": [
       "<Figure size 864x576 with 24 Axes>"
      ]
     },
     "metadata": {
      "needs_background": "light"
     },
     "output_type": "display_data"
    }
   ],
   "source": [
    "# POINTS: 4\n",
    "\n",
    "augment_transform = transforms.Compose([\n",
    "    # YOUR CODE HERE\n",
    "    transforms.RandomHorizontalFlip(0.5),\n",
    "    transforms.RandomAffine(0,(0.1,0.1),(0.9,1.1))\n",
    "    \n",
    "    \n",
    "    \n",
    "])\n",
    "augmented_train_data = CIFAR10(root='cifar10/train/', train=True, download=True,\n",
    "                               transform=transforms.Compose([augment_transform, normalize_transform]))\n",
    "visualize_dataset(augmented_train_data)"
   ]
  },
  {
   "cell_type": "code",
   "execution_count": 11,
   "metadata": {
    "colab": {
     "base_uri": "https://localhost:8080/"
    },
    "id": "WAeyR6DpewYB",
    "outputId": "6c258d82-7e07-4b5a-d2aa-334f76909c48"
   },
   "outputs": [
    {
     "name": "stderr",
     "output_type": "stream",
     "text": [
      "/usr/local/lib/python3.7/dist-packages/torch/utils/data/dataloader.py:490: UserWarning: This DataLoader will create 6 worker processes in total. Our suggested max number of worker in current system is 2, which is smaller than what this DataLoader is going to create. Please be aware that excessive worker creation might get DataLoader running slow or even freeze, lower the worker number to avoid potential slowness/freeze if necessary.\n",
      "  cpuset_checked))\n"
     ]
    },
    {
     "name": "stdout",
     "output_type": "stream",
     "text": [
      "Epoch 1 | train loss: 1.876, train accuracy: 0.334, test loss: 1.775, test accuracy: 0.383, time: 0:00:16\n",
      "Epoch 2 | train loss: 1.744, train accuracy: 0.383, test loss: 1.737, test accuracy: 0.391, time: 0:00:33\n",
      "Epoch 3 | train loss: 1.678, train accuracy: 0.411, test loss: 1.717, test accuracy: 0.402, time: 0:00:50\n",
      "Epoch 4 | train loss: 1.636, train accuracy: 0.423, test loss: 1.695, test accuracy: 0.416, time: 0:01:07\n",
      "Epoch 5 | train loss: 1.597, train accuracy: 0.438, test loss: 1.676, test accuracy: 0.417, time: 0:01:23\n",
      "Epoch 6 | train loss: 1.567, train accuracy: 0.447, test loss: 1.650, test accuracy: 0.429, time: 0:01:40\n",
      "Epoch 7 | train loss: 1.546, train accuracy: 0.455, test loss: 1.634, test accuracy: 0.432, time: 0:01:58\n",
      "Epoch 8 | train loss: 1.519, train accuracy: 0.463, test loss: 1.604, test accuracy: 0.450, time: 0:02:15\n",
      "Epoch 9 | train loss: 1.500, train accuracy: 0.471, test loss: 1.605, test accuracy: 0.448, time: 0:02:32\n",
      "Epoch 10 | train loss: 1.485, train accuracy: 0.475, test loss: 1.607, test accuracy: 0.442, time: 0:02:48\n",
      "Epoch 11 | train loss: 1.467, train accuracy: 0.483, test loss: 1.576, test accuracy: 0.458, time: 0:03:05\n",
      "Epoch 12 | train loss: 1.452, train accuracy: 0.486, test loss: 1.581, test accuracy: 0.454, time: 0:03:22\n",
      "Epoch 13 | train loss: 1.442, train accuracy: 0.492, test loss: 1.578, test accuracy: 0.455, time: 0:03:39\n",
      "Epoch 14 | train loss: 1.432, train accuracy: 0.494, test loss: 1.585, test accuracy: 0.453, time: 0:03:56\n",
      "Epoch 15 | train loss: 1.423, train accuracy: 0.497, test loss: 1.546, test accuracy: 0.469, time: 0:04:13\n",
      "Epoch 16 | train loss: 1.410, train accuracy: 0.503, test loss: 1.535, test accuracy: 0.469, time: 0:04:30\n",
      "Epoch 17 | train loss: 1.403, train accuracy: 0.504, test loss: 1.543, test accuracy: 0.466, time: 0:04:47\n",
      "Epoch 18 | train loss: 1.392, train accuracy: 0.505, test loss: 1.517, test accuracy: 0.478, time: 0:05:04\n",
      "Epoch 19 | train loss: 1.383, train accuracy: 0.511, test loss: 1.529, test accuracy: 0.473, time: 0:05:21\n",
      "Epoch 20 | train loss: 1.377, train accuracy: 0.514, test loss: 1.508, test accuracy: 0.483, time: 0:05:37\n",
      "Epoch 21 | train loss: 1.369, train accuracy: 0.518, test loss: 1.513, test accuracy: 0.478, time: 0:05:54\n",
      "Epoch 22 | train loss: 1.365, train accuracy: 0.516, test loss: 1.514, test accuracy: 0.478, time: 0:06:11\n",
      "Epoch 23 | train loss: 1.360, train accuracy: 0.517, test loss: 1.492, test accuracy: 0.488, time: 0:06:28\n",
      "Epoch 24 | train loss: 1.350, train accuracy: 0.521, test loss: 1.494, test accuracy: 0.489, time: 0:06:46\n",
      "Epoch 25 | train loss: 1.346, train accuracy: 0.523, test loss: 1.490, test accuracy: 0.485, time: 0:07:03\n",
      "Epoch 26 | train loss: 1.340, train accuracy: 0.525, test loss: 1.500, test accuracy: 0.481, time: 0:07:21\n",
      "Epoch 27 | train loss: 1.331, train accuracy: 0.527, test loss: 1.471, test accuracy: 0.492, time: 0:07:38\n",
      "Epoch 28 | train loss: 1.331, train accuracy: 0.526, test loss: 1.479, test accuracy: 0.487, time: 0:07:56\n",
      "Epoch 29 | train loss: 1.324, train accuracy: 0.534, test loss: 1.480, test accuracy: 0.486, time: 0:08:13\n",
      "Epoch 30 | train loss: 1.322, train accuracy: 0.530, test loss: 1.468, test accuracy: 0.496, time: 0:08:30\n",
      "Epoch 31 | train loss: 1.315, train accuracy: 0.533, test loss: 1.471, test accuracy: 0.493, time: 0:08:48\n",
      "Epoch 32 | train loss: 1.309, train accuracy: 0.535, test loss: 1.471, test accuracy: 0.487, time: 0:09:05\n",
      "Epoch 33 | train loss: 1.306, train accuracy: 0.539, test loss: 1.457, test accuracy: 0.501, time: 0:09:22\n",
      "Epoch 34 | train loss: 1.307, train accuracy: 0.537, test loss: 1.453, test accuracy: 0.501, time: 0:09:39\n",
      "Epoch 35 | train loss: 1.300, train accuracy: 0.537, test loss: 1.465, test accuracy: 0.493, time: 0:09:56\n",
      "Epoch 36 | train loss: 1.297, train accuracy: 0.542, test loss: 1.454, test accuracy: 0.502, time: 0:10:14\n",
      "Epoch 37 | train loss: 1.294, train accuracy: 0.543, test loss: 1.434, test accuracy: 0.505, time: 0:10:30\n",
      "Epoch 38 | train loss: 1.291, train accuracy: 0.544, test loss: 1.452, test accuracy: 0.499, time: 0:10:47\n",
      "Epoch 39 | train loss: 1.290, train accuracy: 0.543, test loss: 1.433, test accuracy: 0.504, time: 0:11:04\n",
      "Epoch 40 | train loss: 1.290, train accuracy: 0.544, test loss: 1.426, test accuracy: 0.505, time: 0:11:21\n",
      "Epoch 41 | train loss: 1.283, train accuracy: 0.546, test loss: 1.443, test accuracy: 0.503, time: 0:11:38\n",
      "Epoch 42 | train loss: 1.276, train accuracy: 0.548, test loss: 1.420, test accuracy: 0.513, time: 0:11:54\n",
      "Epoch 43 | train loss: 1.278, train accuracy: 0.547, test loss: 1.409, test accuracy: 0.519, time: 0:12:11\n",
      "Epoch 44 | train loss: 1.271, train accuracy: 0.549, test loss: 1.415, test accuracy: 0.511, time: 0:12:28\n",
      "Epoch 45 | train loss: 1.270, train accuracy: 0.550, test loss: 1.411, test accuracy: 0.513, time: 0:12:45\n",
      "Epoch 46 | train loss: 1.264, train accuracy: 0.554, test loss: 1.419, test accuracy: 0.510, time: 0:13:02\n",
      "Epoch 47 | train loss: 1.267, train accuracy: 0.553, test loss: 1.409, test accuracy: 0.515, time: 0:13:18\n",
      "Epoch 48 | train loss: 1.259, train accuracy: 0.556, test loss: 1.401, test accuracy: 0.519, time: 0:13:35\n",
      "Epoch 49 | train loss: 1.257, train accuracy: 0.557, test loss: 1.410, test accuracy: 0.510, time: 0:13:52\n",
      "Epoch 50 | train loss: 1.257, train accuracy: 0.555, test loss: 1.403, test accuracy: 0.515, time: 0:14:09\n"
     ]
    }
   ],
   "source": [
    "tanh_mlp = nn.Sequential(\n",
    "    nn.Flatten(),\n",
    "    nn.Linear(in_features=3072, out_features=512),\n",
    "    nn.Tanh(),\n",
    "    nn.Linear(in_features=512, out_features=10)\n",
    ")\n",
    "if USE_GPU:\n",
    "    tanh_mlp.cuda()\n",
    "    \n",
    "opt = optim.Adam(tanh_mlp.parameters(), lr=2e-4)\n",
    "train_classifier(tanh_mlp, opt, f'tanh_mlp_augmented', train_data=augmented_train_data)"
   ]
  },
  {
   "cell_type": "markdown",
   "metadata": {
    "id": "6Kg7ljaaewYB"
   },
   "source": [
    "What do you observe if you train the same model on the augmented data?"
   ]
  },
  {
   "cell_type": "markdown",
   "metadata": {
    "id": "DePiXailewYB"
   },
   "source": [
    "*POINTS: 0*\n",
    "\n",
    "YOUR ANSWER HERE"
   ]
  },
  {
   "cell_type": "markdown",
   "metadata": {
    "id": "j_LsuH6-ewYB"
   },
   "source": [
    "## ReLU\n",
    "\n",
    "The ReLU activation function has become more popular in recent years, especially for deeper nets. Create and train an MLP with the same architecture as above which uses ReLU instead of tanh as the activation."
   ]
  },
  {
   "cell_type": "code",
   "execution_count": 12,
   "metadata": {
    "colab": {
     "base_uri": "https://localhost:8080/"
    },
    "id": "FeLxPkTdewYB",
    "outputId": "a9bb3aa4-396a-4ce1-e020-016f666885f9"
   },
   "outputs": [
    {
     "name": "stderr",
     "output_type": "stream",
     "text": [
      "/usr/local/lib/python3.7/dist-packages/torch/utils/data/dataloader.py:490: UserWarning: This DataLoader will create 6 worker processes in total. Our suggested max number of worker in current system is 2, which is smaller than what this DataLoader is going to create. Please be aware that excessive worker creation might get DataLoader running slow or even freeze, lower the worker number to avoid potential slowness/freeze if necessary.\n",
      "  cpuset_checked))\n"
     ]
    },
    {
     "name": "stdout",
     "output_type": "stream",
     "text": [
      "Epoch 1 | train loss: 1.787, train accuracy: 0.364, test loss: 1.597, test accuracy: 0.439, time: 0:00:16\n",
      "Epoch 2 | train loss: 1.627, train accuracy: 0.422, test loss: 1.519, test accuracy: 0.463, time: 0:00:33\n",
      "Epoch 3 | train loss: 1.564, train accuracy: 0.451, test loss: 1.466, test accuracy: 0.486, time: 0:00:51\n",
      "Epoch 4 | train loss: 1.528, train accuracy: 0.460, test loss: 1.449, test accuracy: 0.492, time: 0:01:08\n",
      "Epoch 5 | train loss: 1.495, train accuracy: 0.474, test loss: 1.418, test accuracy: 0.504, time: 0:01:25\n",
      "Epoch 6 | train loss: 1.472, train accuracy: 0.483, test loss: 1.405, test accuracy: 0.507, time: 0:01:42\n",
      "Epoch 7 | train loss: 1.452, train accuracy: 0.489, test loss: 1.381, test accuracy: 0.519, time: 0:01:58\n",
      "Epoch 8 | train loss: 1.433, train accuracy: 0.496, test loss: 1.373, test accuracy: 0.522, time: 0:02:15\n",
      "Epoch 9 | train loss: 1.423, train accuracy: 0.497, test loss: 1.369, test accuracy: 0.525, time: 0:02:32\n",
      "Epoch 10 | train loss: 1.408, train accuracy: 0.505, test loss: 1.370, test accuracy: 0.520, time: 0:02:49\n",
      "Epoch 11 | train loss: 1.399, train accuracy: 0.508, test loss: 1.347, test accuracy: 0.526, time: 0:03:06\n",
      "Epoch 12 | train loss: 1.386, train accuracy: 0.513, test loss: 1.344, test accuracy: 0.530, time: 0:03:22\n",
      "Epoch 13 | train loss: 1.375, train accuracy: 0.516, test loss: 1.342, test accuracy: 0.532, time: 0:03:39\n",
      "Epoch 14 | train loss: 1.367, train accuracy: 0.517, test loss: 1.342, test accuracy: 0.531, time: 0:03:56\n",
      "Epoch 15 | train loss: 1.359, train accuracy: 0.525, test loss: 1.330, test accuracy: 0.529, time: 0:04:13\n",
      "Epoch 16 | train loss: 1.349, train accuracy: 0.525, test loss: 1.324, test accuracy: 0.536, time: 0:04:30\n",
      "Epoch 17 | train loss: 1.344, train accuracy: 0.526, test loss: 1.314, test accuracy: 0.536, time: 0:04:47\n",
      "Epoch 18 | train loss: 1.337, train accuracy: 0.530, test loss: 1.311, test accuracy: 0.541, time: 0:05:04\n",
      "Epoch 19 | train loss: 1.328, train accuracy: 0.535, test loss: 1.287, test accuracy: 0.547, time: 0:05:21\n",
      "Epoch 20 | train loss: 1.322, train accuracy: 0.535, test loss: 1.295, test accuracy: 0.545, time: 0:05:38\n",
      "Epoch 21 | train loss: 1.310, train accuracy: 0.541, test loss: 1.278, test accuracy: 0.548, time: 0:05:55\n",
      "Epoch 22 | train loss: 1.305, train accuracy: 0.540, test loss: 1.284, test accuracy: 0.550, time: 0:06:12\n",
      "Epoch 23 | train loss: 1.304, train accuracy: 0.541, test loss: 1.261, test accuracy: 0.558, time: 0:06:29\n",
      "Epoch 24 | train loss: 1.295, train accuracy: 0.546, test loss: 1.269, test accuracy: 0.549, time: 0:06:46\n",
      "Epoch 25 | train loss: 1.294, train accuracy: 0.544, test loss: 1.266, test accuracy: 0.559, time: 0:07:03\n",
      "Epoch 26 | train loss: 1.288, train accuracy: 0.549, test loss: 1.280, test accuracy: 0.548, time: 0:07:20\n",
      "Epoch 27 | train loss: 1.277, train accuracy: 0.551, test loss: 1.244, test accuracy: 0.564, time: 0:07:37\n",
      "Epoch 28 | train loss: 1.276, train accuracy: 0.552, test loss: 1.266, test accuracy: 0.556, time: 0:07:53\n",
      "Epoch 29 | train loss: 1.270, train accuracy: 0.557, test loss: 1.263, test accuracy: 0.556, time: 0:08:10\n",
      "Epoch 30 | train loss: 1.263, train accuracy: 0.556, test loss: 1.246, test accuracy: 0.564, time: 0:08:27\n",
      "Epoch 31 | train loss: 1.257, train accuracy: 0.559, test loss: 1.251, test accuracy: 0.561, time: 0:08:45\n",
      "Epoch 32 | train loss: 1.256, train accuracy: 0.559, test loss: 1.248, test accuracy: 0.559, time: 0:09:02\n",
      "Epoch 33 | train loss: 1.254, train accuracy: 0.562, test loss: 1.252, test accuracy: 0.559, time: 0:09:19\n",
      "Epoch 34 | train loss: 1.248, train accuracy: 0.562, test loss: 1.237, test accuracy: 0.565, time: 0:09:35\n",
      "Epoch 35 | train loss: 1.245, train accuracy: 0.563, test loss: 1.236, test accuracy: 0.569, time: 0:09:52\n",
      "Epoch 36 | train loss: 1.241, train accuracy: 0.564, test loss: 1.245, test accuracy: 0.560, time: 0:10:09\n",
      "Epoch 37 | train loss: 1.240, train accuracy: 0.566, test loss: 1.228, test accuracy: 0.571, time: 0:10:26\n",
      "Epoch 38 | train loss: 1.234, train accuracy: 0.567, test loss: 1.220, test accuracy: 0.569, time: 0:10:43\n",
      "Epoch 39 | train loss: 1.233, train accuracy: 0.566, test loss: 1.216, test accuracy: 0.569, time: 0:11:00\n",
      "Epoch 40 | train loss: 1.230, train accuracy: 0.568, test loss: 1.235, test accuracy: 0.569, time: 0:11:17\n",
      "Epoch 41 | train loss: 1.225, train accuracy: 0.574, test loss: 1.232, test accuracy: 0.566, time: 0:11:34\n",
      "Epoch 42 | train loss: 1.223, train accuracy: 0.574, test loss: 1.239, test accuracy: 0.570, time: 0:11:51\n",
      "Epoch 43 | train loss: 1.217, train accuracy: 0.575, test loss: 1.230, test accuracy: 0.572, time: 0:12:08\n",
      "Epoch 44 | train loss: 1.220, train accuracy: 0.573, test loss: 1.216, test accuracy: 0.572, time: 0:12:24\n",
      "Epoch 45 | train loss: 1.217, train accuracy: 0.576, test loss: 1.226, test accuracy: 0.575, time: 0:12:42\n",
      "Epoch 46 | train loss: 1.217, train accuracy: 0.573, test loss: 1.208, test accuracy: 0.575, time: 0:12:59\n",
      "Epoch 47 | train loss: 1.212, train accuracy: 0.574, test loss: 1.214, test accuracy: 0.577, time: 0:13:16\n",
      "Epoch 48 | train loss: 1.207, train accuracy: 0.578, test loss: 1.211, test accuracy: 0.575, time: 0:13:33\n",
      "Epoch 49 | train loss: 1.206, train accuracy: 0.577, test loss: 1.217, test accuracy: 0.575, time: 0:13:50\n",
      "Epoch 50 | train loss: 1.199, train accuracy: 0.580, test loss: 1.206, test accuracy: 0.574, time: 0:14:07\n"
     ]
    }
   ],
   "source": [
    "# POINTS: 2\n",
    "\n",
    "relu_mlp = nn.Sequential(\n",
    "    # YOUR CODE HERE\n",
    "    nn.Flatten(),\n",
    "    nn.Linear(in_features=3072, out_features=512),\n",
    "    nn.ReLU(),\n",
    "    nn.Linear(in_features=512, out_features=10)\n",
    ")\n",
    "if USE_GPU:\n",
    "    relu_mlp.cuda()\n",
    "\n",
    "    \n",
    "opt = optim.Adam(relu_mlp.parameters(), lr=2e-4)\n",
    "train_classifier(relu_mlp, opt, 'relu_mlp', train_data=augmented_train_data)"
   ]
  },
  {
   "cell_type": "markdown",
   "metadata": {
    "id": "HNZtesNNewYC"
   },
   "source": [
    "Do the results change? What benefit does ReLU have against tanh?"
   ]
  },
  {
   "cell_type": "markdown",
   "metadata": {
    "id": "cV2oSOcFewYC"
   },
   "source": [
    "*POINTS: 0*\n",
    "\n",
    "YOUR ANSWER HERE"
   ]
  },
  {
   "cell_type": "markdown",
   "metadata": {
    "id": "z_SjBygTewYC"
   },
   "source": [
    "## A Simple Convolutional Neural Network\n",
    "\n",
    "The previous models did not explicitly make use of the grid structure of the image pixels. Convolutional neural networks do.\n",
    "\n",
    "Instead of reshaping the input image pixels into one long vector, convolutional layers slide small filters across the input, just as with the convolutional filters we saw earlier in the course. In the earlier parts, we looked at convolution on an image with a single channel in case of grayscale images, or channelwise separate convolutions on RGB images.\n",
    "\n",
    "In CNNs, the multiple input channels of a conv layer are not handled independently, but are linearly combined. This means that the weight array has shape `[out_channels, in_channels, kernel_height, kernel_width]` and we perform a weighted sum along the input channel axis. Another difference is the use of a **bias** vector of shape `[out_channels]`, each components gets added to the corresponding output channel.\n",
    "\n",
    "As you already know, convolution is a linear operator, so it is possible to express any convolutional layer as a fully-connected layer.\n",
    "However, the convolutional layer's weight matrix is sparse (has many zeros) compared to a fully-connected (\"linear\") layer because each output only depends on a small number of inputs, namely, those within a small neigborhood. Further, the weight values are shared between the different pixel locations.\n",
    "\n",
    "This tutorial has some great visualisations and explanations on the details of conv layers: https://arxiv.org/abs/1603.07285."
   ]
  },
  {
   "cell_type": "markdown",
   "metadata": {
    "id": "7fVXeST-ewYC"
   },
   "source": [
    "Technically, what's called a \"convolutional\" layer is usually implemented as a *cross-correlation* computation. Could there be any advantage in using the actual definition of convolution in these layers?"
   ]
  },
  {
   "cell_type": "markdown",
   "metadata": {
    "id": "Xd80vfPLewYC"
   },
   "source": [
    "*POINTS: 0*\n",
    "\n",
    "YOUR ANSWER HERE"
   ]
  },
  {
   "cell_type": "markdown",
   "metadata": {
    "id": "IKYnp69tewYC"
   },
   "source": [
    "Train the following simple CNN model. It may take about 30 minutes on a CPU."
   ]
  },
  {
   "cell_type": "code",
   "execution_count": 13,
   "metadata": {
    "colab": {
     "base_uri": "https://localhost:8080/"
    },
    "id": "wp3I61PxewYD",
    "outputId": "be6f42e6-374c-41cf-edd0-c56c98af5615"
   },
   "outputs": [
    {
     "name": "stderr",
     "output_type": "stream",
     "text": [
      "/usr/local/lib/python3.7/dist-packages/torch/utils/data/dataloader.py:490: UserWarning: This DataLoader will create 6 worker processes in total. Our suggested max number of worker in current system is 2, which is smaller than what this DataLoader is going to create. Please be aware that excessive worker creation might get DataLoader running slow or even freeze, lower the worker number to avoid potential slowness/freeze if necessary.\n",
      "  cpuset_checked))\n"
     ]
    },
    {
     "name": "stdout",
     "output_type": "stream",
     "text": [
      "Epoch 1 | train loss: 1.552, train accuracy: 0.446, test loss: 1.259, test accuracy: 0.549, time: 0:00:18\n",
      "Epoch 2 | train loss: 1.237, train accuracy: 0.564, test loss: 1.073, test accuracy: 0.619, time: 0:00:35\n",
      "Epoch 3 | train loss: 1.107, train accuracy: 0.612, test loss: 0.955, test accuracy: 0.665, time: 0:00:53\n",
      "Epoch 4 | train loss: 1.036, train accuracy: 0.638, test loss: 0.891, test accuracy: 0.691, time: 0:01:10\n",
      "Epoch 5 | train loss: 0.985, train accuracy: 0.656, test loss: 0.877, test accuracy: 0.700, time: 0:01:28\n",
      "Epoch 6 | train loss: 0.944, train accuracy: 0.673, test loss: 0.855, test accuracy: 0.705, time: 0:01:46\n",
      "Epoch 7 | train loss: 0.920, train accuracy: 0.681, test loss: 0.818, test accuracy: 0.713, time: 0:02:03\n",
      "Epoch 8 | train loss: 0.895, train accuracy: 0.689, test loss: 0.818, test accuracy: 0.724, time: 0:02:22\n",
      "Epoch 9 | train loss: 0.873, train accuracy: 0.698, test loss: 0.785, test accuracy: 0.731, time: 0:02:39\n",
      "Epoch 10 | train loss: 0.860, train accuracy: 0.702, test loss: 0.779, test accuracy: 0.732, time: 0:02:57\n",
      "Epoch 11 | train loss: 0.834, train accuracy: 0.711, test loss: 0.771, test accuracy: 0.731, time: 0:03:15\n",
      "Epoch 12 | train loss: 0.825, train accuracy: 0.714, test loss: 0.774, test accuracy: 0.741, time: 0:03:32\n",
      "Epoch 13 | train loss: 0.812, train accuracy: 0.721, test loss: 0.761, test accuracy: 0.737, time: 0:03:50\n",
      "Epoch 14 | train loss: 0.798, train accuracy: 0.725, test loss: 0.735, test accuracy: 0.749, time: 0:04:08\n",
      "Epoch 15 | train loss: 0.785, train accuracy: 0.730, test loss: 0.731, test accuracy: 0.747, time: 0:04:26\n",
      "Epoch 16 | train loss: 0.776, train accuracy: 0.734, test loss: 0.726, test accuracy: 0.752, time: 0:04:43\n",
      "Epoch 17 | train loss: 0.763, train accuracy: 0.738, test loss: 0.740, test accuracy: 0.751, time: 0:05:01\n",
      "Epoch 18 | train loss: 0.766, train accuracy: 0.737, test loss: 0.714, test accuracy: 0.753, time: 0:05:19\n",
      "Epoch 19 | train loss: 0.747, train accuracy: 0.742, test loss: 0.702, test accuracy: 0.760, time: 0:05:36\n",
      "Epoch 20 | train loss: 0.740, train accuracy: 0.744, test loss: 0.699, test accuracy: 0.760, time: 0:05:54\n",
      "Epoch 21 | train loss: 0.736, train accuracy: 0.746, test loss: 0.683, test accuracy: 0.765, time: 0:06:13\n",
      "Epoch 22 | train loss: 0.726, train accuracy: 0.748, test loss: 0.711, test accuracy: 0.756, time: 0:06:30\n",
      "Epoch 23 | train loss: 0.723, train accuracy: 0.750, test loss: 0.688, test accuracy: 0.765, time: 0:06:48\n",
      "Epoch 24 | train loss: 0.712, train accuracy: 0.755, test loss: 0.732, test accuracy: 0.751, time: 0:07:06\n",
      "Epoch 25 | train loss: 0.707, train accuracy: 0.755, test loss: 0.687, test accuracy: 0.765, time: 0:07:24\n",
      "Epoch 26 | train loss: 0.705, train accuracy: 0.757, test loss: 0.662, test accuracy: 0.774, time: 0:07:41\n",
      "Epoch 27 | train loss: 0.694, train accuracy: 0.759, test loss: 0.668, test accuracy: 0.775, time: 0:07:59\n",
      "Epoch 28 | train loss: 0.695, train accuracy: 0.759, test loss: 0.664, test accuracy: 0.769, time: 0:08:16\n",
      "Epoch 29 | train loss: 0.690, train accuracy: 0.760, test loss: 0.655, test accuracy: 0.774, time: 0:08:34\n",
      "Epoch 30 | train loss: 0.681, train accuracy: 0.765, test loss: 0.646, test accuracy: 0.782, time: 0:08:52\n",
      "Epoch 31 | train loss: 0.677, train accuracy: 0.767, test loss: 0.648, test accuracy: 0.778, time: 0:09:10\n",
      "Epoch 32 | train loss: 0.680, train accuracy: 0.766, test loss: 0.662, test accuracy: 0.774, time: 0:09:27\n",
      "Epoch 33 | train loss: 0.670, train accuracy: 0.770, test loss: 0.643, test accuracy: 0.781, time: 0:09:45\n",
      "Epoch 34 | train loss: 0.666, train accuracy: 0.770, test loss: 0.660, test accuracy: 0.775, time: 0:10:02\n",
      "Epoch 35 | train loss: 0.663, train accuracy: 0.770, test loss: 0.625, test accuracy: 0.788, time: 0:10:21\n",
      "Epoch 36 | train loss: 0.662, train accuracy: 0.771, test loss: 0.668, test accuracy: 0.771, time: 0:10:39\n",
      "Epoch 37 | train loss: 0.657, train accuracy: 0.775, test loss: 0.658, test accuracy: 0.778, time: 0:10:57\n",
      "Epoch 38 | train loss: 0.657, train accuracy: 0.774, test loss: 0.624, test accuracy: 0.786, time: 0:11:15\n",
      "Epoch 39 | train loss: 0.649, train accuracy: 0.777, test loss: 0.625, test accuracy: 0.790, time: 0:11:32\n",
      "Epoch 40 | train loss: 0.646, train accuracy: 0.774, test loss: 0.660, test accuracy: 0.777, time: 0:11:50\n",
      "Epoch 41 | train loss: 0.646, train accuracy: 0.776, test loss: 0.626, test accuracy: 0.788, time: 0:12:08\n",
      "Epoch 42 | train loss: 0.643, train accuracy: 0.776, test loss: 0.676, test accuracy: 0.772, time: 0:12:25\n",
      "Epoch 43 | train loss: 0.639, train accuracy: 0.781, test loss: 0.644, test accuracy: 0.783, time: 0:12:43\n",
      "Epoch 44 | train loss: 0.635, train accuracy: 0.781, test loss: 0.630, test accuracy: 0.788, time: 0:13:03\n",
      "Epoch 45 | train loss: 0.634, train accuracy: 0.780, test loss: 0.633, test accuracy: 0.783, time: 0:13:22\n",
      "Epoch 46 | train loss: 0.634, train accuracy: 0.780, test loss: 0.657, test accuracy: 0.778, time: 0:13:40\n",
      "Epoch 47 | train loss: 0.623, train accuracy: 0.785, test loss: 0.626, test accuracy: 0.788, time: 0:13:57\n",
      "Epoch 48 | train loss: 0.627, train accuracy: 0.781, test loss: 0.650, test accuracy: 0.781, time: 0:14:16\n",
      "Epoch 49 | train loss: 0.626, train accuracy: 0.783, test loss: 0.627, test accuracy: 0.788, time: 0:14:34\n",
      "Epoch 50 | train loss: 0.627, train accuracy: 0.782, test loss: 0.648, test accuracy: 0.780, time: 0:14:52\n"
     ]
    }
   ],
   "source": [
    "cnn = nn.Sequential(\n",
    "    nn.Conv2d(in_channels=3, out_channels=64, kernel_size=3, padding=1),\n",
    "    nn.ReLU(),\n",
    "    nn.MaxPool2d(kernel_size=2, stride=2),\n",
    "    nn.Conv2d(in_channels=64, out_channels=64, kernel_size=3, padding=1),\n",
    "    nn.ReLU(),\n",
    "    nn.MaxPool2d(kernel_size=2, stride=2),\n",
    "    nn.Flatten(),\n",
    "    nn.Linear(in_features=4096, out_features=10)\n",
    ")\n",
    "if USE_GPU:\n",
    "    cnn.cuda()\n",
    "\n",
    "opt = optim.Adam(cnn.parameters(), lr=1e-3)\n",
    "train_classifier(cnn, opt, 'cnn', train_data=augmented_train_data)"
   ]
  },
  {
   "cell_type": "markdown",
   "metadata": {
    "id": "JQ9vrTMSewYD"
   },
   "source": [
    "Does it improve the result? Does it run faster than the MLP?"
   ]
  },
  {
   "cell_type": "markdown",
   "metadata": {
    "id": "tOj0HGsrewYD"
   },
   "source": [
    "*POINTS: 0*\n",
    "\n",
    "YOUR ANSWER HERE"
   ]
  },
  {
   "cell_type": "markdown",
   "metadata": {
    "id": "E_AVnUHYewYD"
   },
   "source": [
    "How many parameters does this model have? How many parameters has the MLP? Show the steps of your computation!"
   ]
  },
  {
   "cell_type": "markdown",
   "metadata": {
    "id": "igFXXUvIewYD"
   },
   "source": [
    "*POINTS: 0*\n",
    "\n",
    "YOUR ANSWER HERE"
   ]
  },
  {
   "cell_type": "markdown",
   "metadata": {
    "id": "uC_bsS3iewYD"
   },
   "source": [
    "## Implementing the Forward Pass\n",
    "\n",
    "To confirm your understanding of the main CNN components, implement the forward pass of the convolutional, max pooling and dense layers, plus the relu activation function. For simplicity, assume a fixed filter size of 3x3 for the convolution, with stride 1 and use zero padding, such that the spatial size does not change (called 'same' padding). Implement this in `conv3x3_same`. For max pooling assume a fixed 2x2 pooling size and stride 2 in `maxpool2x2`.\n",
    "\n",
    "To check whether your implementation is correct, we can extract the weights from the PyTorch model we trained above, and feed these weights and an test input to your implementation of the forward pass. If your result disagrees with PyTorch, there is probably a bug somewhere!"
   ]
  },
  {
   "cell_type": "code",
   "execution_count": 14,
   "metadata": {
    "colab": {
     "base_uri": "https://localhost:8080/"
    },
    "id": "D-MK0kPyewYE",
    "outputId": "70b3a5b1-2a9c-41c3-e7a2-838181f23269"
   },
   "outputs": [
    {
     "name": "stdout",
     "output_type": "stream",
     "text": [
      "Something isn't right! PyTorch gives different results than my_predict_cnn!\n"
     ]
    }
   ],
   "source": [
    "def conv3x3_same(x, weights, biases):\n",
    "    \"\"\"Convolutional layer with filter size 3x3 and 'same' padding.\n",
    "    `x` is a NumPy array of shape [in_channels, height, width]\n",
    "    `weights` has shape [out_channels, in_channels, kernel_height, kernel_width]\n",
    "    `biases` has shape [out_channels]\n",
    "    Return the output of the 3x3 conv (without activation)\n",
    "    \"\"\"\n",
    "    # YOUR CODE HERE\n",
    "    stride=1\n",
    "    x_zp=np.pad(x, ((0, 0), (1, 1), (1, 1)), 'constant', constant_values=0)\n",
    "    out_channels,in_channels,k_h,k_w=weights.shape\n",
    "    inn,x_h,x_w=x.shape\n",
    "    result=np.zeros((out_channels,x_h,x_w))\n",
    "    for i in range(out_channels):\n",
    "        for h in range(x_h-3):\n",
    "            for w in range(x_w-3):\n",
    "                h1=h*stride\n",
    "                h2=h1+3\n",
    "                w1=w*stride\n",
    "                w2=w1+3\n",
    "                window=x[:,h1:h2,w1:w2]\n",
    "                result[i,h, w ] = np.sum( window* weights[i, :, :, :]) + biases[i]\n",
    "    \n",
    "    #raise NotImplementedError()\n",
    "    return result\n",
    "\n",
    "def maxpool2x2(x):\n",
    "    \"\"\"Max pooling with pool size 2x2 and stride 2.\n",
    "    `x` is a numpy array of shape [in_channels, height, width]\n",
    "    \"\"\"\n",
    "    # YOUR CODE HERE\n",
    "    stride =2\n",
    "    inn,x_h,x_w=x.shape\n",
    "    a = 1 + (x_h - 2) // stride\n",
    "    b = 1 + (x_w - 2) // stride\n",
    "    x_out=np.zeros((inn,a,b))\n",
    "    n=0\n",
    "    \n",
    "    for h in range(a):           \n",
    "          for w in range(b):\n",
    "                h1=h*stride\n",
    "                h2=h1+2\n",
    "                w1=w*stride\n",
    "                w2=w1+2\n",
    "                window=x[:,h1:h2,w1:w2]\n",
    "                x_out[:,h,w] = np.max(window.reshape((2*2, inn)), axis=0)\n",
    "        \n",
    "    return x_out\n",
    "\n",
    "def linear(x, weights, biases):\n",
    "    # YOUR CODE HERE\n",
    "    x=x.reshape(-1,1)\n",
    "    out = np.dot(weights,x) + biases\n",
    "    return out\n",
    "def relu(x):\n",
    "    # YOUR CODE HERE\n",
    "    result = x * (x > 0)\n",
    "    \n",
    "    return x\n",
    "\n",
    "def my_predict_cnn(x, W1, b1, W2, b2, W3, b3):\n",
    "    x = conv3x3_same(x, W1, b1)\n",
    "    x = relu(x)\n",
    "    x = maxpool2x2(x)\n",
    "    x = conv3x3_same(x, W2, b2)\n",
    "    x = relu(x)\n",
    "    x = maxpool2x2(x)\n",
    "    x = x.reshape(-1)\n",
    "    x = linear(x, W3, b3)\n",
    "    return x\n",
    "\n",
    "W1 = cnn[0].weight.data.cpu().numpy()\n",
    "b1 = cnn[0].bias.data.cpu().numpy()\n",
    "W2 = cnn[3].weight.data.cpu().numpy()\n",
    "b2 = cnn[3].bias.data.cpu().numpy()\n",
    "W3 = cnn[7].weight.data.cpu().numpy()\n",
    "b3 = cnn[7].bias.data.cpu().numpy()\n",
    "\n",
    "inp = train_data[0][0]\n",
    "inp_np = inp.numpy()\n",
    "if USE_GPU:\n",
    "    inp = inp.cuda()\n",
    "my_logits = my_predict_cnn(inp_np, W1, b1, W2, b2, W3, b3)\n",
    "pytorch_logits = cnn(inp[np.newaxis])[0]\n",
    "if np.mean((my_logits-pytorch_logits.detach().cpu().numpy())**2) > 1e-5:\n",
    "    print('Something isn\\'t right! PyTorch gives different results than my_predict_cnn!')\n",
    "else:\n",
    "    print('Congratulations, you got correct results!')"
   ]
  },
  {
   "cell_type": "markdown",
   "metadata": {
    "id": "8Q4-raz2ewYE"
   },
   "source": [
    "## Batch Normalization\n",
    "\n",
    "Batch normalization is a modern technique to improve and speed up the training of deep neural networks (BatchNorm, Ioffe & Szegedy ICML'15, https://arxiv.org/abs/1502.03167). Each feature channel is normalized to have zero mean and unit variance across the spatial and mini-batch axes. To compensate for the lost degrees of freedom, extra scaling and bias parameters are introduced and learned. Mathematically, BatchNorm for a spatial feature map (e.g. the output of conv) can be written as:\n",
    "\n",
    "$$\n",
    "\\mu_d = \\mathbb{E}\\{x_{\\cdot \\cdot d}\\}, \\\\\n",
    "\\sigma_d = \\sqrt{\\operatorname{Var}\\{x_{\\cdot \\cdot d}\\}} \\\\\n",
    "z_{ijd} = \\gamma_d \\cdot \\frac{x_{ijd} - \\mu_d}{\\sigma_d} + \\beta_d,\\\\\n",
    "$$\n",
    "\n",
    "with the expectation and variance taken across both the data samples of the batch and the spatial dimensions.\n",
    "\n",
    "The $\\mu_d$ and $\\sigma_d$ values are computed on the actual mini-batch during training, but at test-time they are fixed, so that the prediction of the final system on a given sample does not depend on other samples in the mini-batch. To obtain the fixed values for test-time use, one needs to maintain moving statistics over the activations during training. This can be a bit tricky to implement from scratch, but luckily this is now implemented in all popular frameworks, including PyTorch.\n",
    "\n",
    "When applying BatchNorm, it is not necessary to use biases in the previous convolutional layer. Why? Use the `bias` argument of `nn.Conv2d` accordingly."
   ]
  },
  {
   "cell_type": "markdown",
   "metadata": {
    "id": "xPkjoLwdewYE"
   },
   "source": [
    "*POINTS: 0*\n",
    "\n",
    "YOUR ANSWER HERE"
   ]
  },
  {
   "cell_type": "markdown",
   "metadata": {
    "id": "mGlOKdLOewYE"
   },
   "source": [
    "Create a modified version of the previous model using batch normalization between each convolution and the corresponding activation."
   ]
  },
  {
   "cell_type": "code",
   "execution_count": 15,
   "metadata": {
    "colab": {
     "base_uri": "https://localhost:8080/"
    },
    "id": "mQOnw6eRewYE",
    "outputId": "9bee85ee-1b76-4820-e57b-c483177b7ba2"
   },
   "outputs": [
    {
     "name": "stderr",
     "output_type": "stream",
     "text": [
      "/usr/local/lib/python3.7/dist-packages/torch/utils/data/dataloader.py:490: UserWarning: This DataLoader will create 6 worker processes in total. Our suggested max number of worker in current system is 2, which is smaller than what this DataLoader is going to create. Please be aware that excessive worker creation might get DataLoader running slow or even freeze, lower the worker number to avoid potential slowness/freeze if necessary.\n",
      "  cpuset_checked))\n"
     ]
    },
    {
     "name": "stdout",
     "output_type": "stream",
     "text": [
      "Epoch 1 | train loss: 1.475, train accuracy: 0.473, test loss: 1.138, test accuracy: 0.603, time: 0:00:17\n",
      "Epoch 2 | train loss: 1.141, train accuracy: 0.598, test loss: 1.017, test accuracy: 0.640, time: 0:00:36\n",
      "Epoch 3 | train loss: 1.035, train accuracy: 0.639, test loss: 0.975, test accuracy: 0.665, time: 0:00:54\n",
      "Epoch 4 | train loss: 0.980, train accuracy: 0.657, test loss: 0.896, test accuracy: 0.686, time: 0:01:12\n",
      "Epoch 5 | train loss: 0.933, train accuracy: 0.676, test loss: 0.837, test accuracy: 0.717, time: 0:01:30\n",
      "Epoch 6 | train loss: 0.899, train accuracy: 0.688, test loss: 0.817, test accuracy: 0.723, time: 0:01:48\n",
      "Epoch 7 | train loss: 0.879, train accuracy: 0.695, test loss: 0.816, test accuracy: 0.723, time: 0:02:06\n",
      "Epoch 8 | train loss: 0.850, train accuracy: 0.706, test loss: 0.789, test accuracy: 0.728, time: 0:02:24\n",
      "Epoch 9 | train loss: 0.836, train accuracy: 0.711, test loss: 0.787, test accuracy: 0.727, time: 0:02:42\n",
      "Epoch 10 | train loss: 0.820, train accuracy: 0.718, test loss: 0.768, test accuracy: 0.736, time: 0:03:00\n",
      "Epoch 11 | train loss: 0.797, train accuracy: 0.725, test loss: 0.745, test accuracy: 0.744, time: 0:03:19\n",
      "Epoch 12 | train loss: 0.787, train accuracy: 0.728, test loss: 0.763, test accuracy: 0.737, time: 0:03:38\n",
      "Epoch 13 | train loss: 0.776, train accuracy: 0.733, test loss: 0.741, test accuracy: 0.755, time: 0:03:56\n",
      "Epoch 14 | train loss: 0.760, train accuracy: 0.738, test loss: 0.769, test accuracy: 0.741, time: 0:04:14\n",
      "Epoch 15 | train loss: 0.748, train accuracy: 0.743, test loss: 0.715, test accuracy: 0.756, time: 0:04:32\n",
      "Epoch 16 | train loss: 0.740, train accuracy: 0.746, test loss: 0.686, test accuracy: 0.763, time: 0:04:50\n",
      "Epoch 17 | train loss: 0.726, train accuracy: 0.750, test loss: 0.686, test accuracy: 0.763, time: 0:05:08\n",
      "Epoch 18 | train loss: 0.722, train accuracy: 0.752, test loss: 0.736, test accuracy: 0.753, time: 0:05:26\n",
      "Epoch 19 | train loss: 0.709, train accuracy: 0.757, test loss: 0.678, test accuracy: 0.773, time: 0:05:44\n",
      "Epoch 20 | train loss: 0.705, train accuracy: 0.758, test loss: 0.703, test accuracy: 0.761, time: 0:06:02\n",
      "Epoch 21 | train loss: 0.688, train accuracy: 0.763, test loss: 0.680, test accuracy: 0.770, time: 0:06:20\n",
      "Epoch 22 | train loss: 0.684, train accuracy: 0.765, test loss: 0.685, test accuracy: 0.764, time: 0:06:38\n",
      "Epoch 23 | train loss: 0.675, train accuracy: 0.768, test loss: 0.766, test accuracy: 0.738, time: 0:06:57\n",
      "Epoch 24 | train loss: 0.674, train accuracy: 0.767, test loss: 0.685, test accuracy: 0.766, time: 0:07:15\n",
      "Epoch 25 | train loss: 0.663, train accuracy: 0.773, test loss: 0.658, test accuracy: 0.776, time: 0:07:34\n",
      "Epoch 26 | train loss: 0.657, train accuracy: 0.774, test loss: 0.634, test accuracy: 0.783, time: 0:07:52\n",
      "Epoch 27 | train loss: 0.654, train accuracy: 0.775, test loss: 0.695, test accuracy: 0.764, time: 0:08:10\n",
      "Epoch 28 | train loss: 0.646, train accuracy: 0.777, test loss: 0.620, test accuracy: 0.790, time: 0:08:28\n",
      "Epoch 29 | train loss: 0.643, train accuracy: 0.778, test loss: 0.647, test accuracy: 0.777, time: 0:08:46\n",
      "Epoch 30 | train loss: 0.633, train accuracy: 0.781, test loss: 0.640, test accuracy: 0.782, time: 0:09:05\n",
      "Epoch 31 | train loss: 0.629, train accuracy: 0.782, test loss: 0.638, test accuracy: 0.784, time: 0:09:23\n",
      "Epoch 32 | train loss: 0.634, train accuracy: 0.782, test loss: 0.606, test accuracy: 0.794, time: 0:09:41\n",
      "Epoch 33 | train loss: 0.618, train accuracy: 0.786, test loss: 0.639, test accuracy: 0.785, time: 0:09:59\n",
      "Epoch 34 | train loss: 0.616, train accuracy: 0.785, test loss: 0.616, test accuracy: 0.790, time: 0:10:17\n",
      "Epoch 35 | train loss: 0.608, train accuracy: 0.791, test loss: 0.629, test accuracy: 0.789, time: 0:10:35\n",
      "Epoch 36 | train loss: 0.612, train accuracy: 0.789, test loss: 0.606, test accuracy: 0.792, time: 0:10:54\n",
      "Epoch 37 | train loss: 0.601, train accuracy: 0.794, test loss: 0.621, test accuracy: 0.792, time: 0:11:12\n",
      "Epoch 38 | train loss: 0.601, train accuracy: 0.794, test loss: 0.658, test accuracy: 0.782, time: 0:11:30\n",
      "Epoch 39 | train loss: 0.602, train accuracy: 0.792, test loss: 0.595, test accuracy: 0.795, time: 0:11:48\n",
      "Epoch 40 | train loss: 0.592, train accuracy: 0.796, test loss: 0.600, test accuracy: 0.796, time: 0:12:06\n",
      "Epoch 41 | train loss: 0.593, train accuracy: 0.796, test loss: 0.598, test accuracy: 0.799, time: 0:12:24\n",
      "Epoch 42 | train loss: 0.592, train accuracy: 0.797, test loss: 0.640, test accuracy: 0.783, time: 0:12:42\n",
      "Epoch 43 | train loss: 0.589, train accuracy: 0.799, test loss: 0.606, test accuracy: 0.792, time: 0:13:00\n",
      "Epoch 44 | train loss: 0.582, train accuracy: 0.798, test loss: 0.596, test accuracy: 0.796, time: 0:13:18\n",
      "Epoch 45 | train loss: 0.579, train accuracy: 0.802, test loss: 0.584, test accuracy: 0.801, time: 0:13:36\n",
      "Epoch 46 | train loss: 0.580, train accuracy: 0.800, test loss: 0.587, test accuracy: 0.801, time: 0:13:55\n",
      "Epoch 47 | train loss: 0.578, train accuracy: 0.801, test loss: 0.628, test accuracy: 0.785, time: 0:14:14\n",
      "Epoch 48 | train loss: 0.575, train accuracy: 0.802, test loss: 0.598, test accuracy: 0.796, time: 0:14:32\n",
      "Epoch 49 | train loss: 0.572, train accuracy: 0.804, test loss: 0.608, test accuracy: 0.796, time: 0:14:50\n",
      "Epoch 50 | train loss: 0.568, train accuracy: 0.805, test loss: 0.611, test accuracy: 0.792, time: 0:15:08\n"
     ]
    }
   ],
   "source": [
    "# POINTS: 3\n",
    "\n",
    "cnn_batchnorm = nn.Sequential(\n",
    "    # YOUR CODE HERE\n",
    "    nn.Conv2d(in_channels=3, out_channels=64, kernel_size=3, padding=1),\n",
    "    nn.BatchNorm2d(num_features=64),\n",
    "    nn.ReLU(),\n",
    "    nn.MaxPool2d(kernel_size=2, stride=2),\n",
    "    nn.Conv2d(in_channels=64, out_channels=64, kernel_size=3, padding=1),\n",
    "    nn.BatchNorm2d(num_features=64),\n",
    "    nn.ReLU(),\n",
    "    nn.MaxPool2d(kernel_size=2, stride=2),\n",
    "    nn.Flatten(),\n",
    "    nn.Linear(in_features=4096, out_features=10)\n",
    ")\n",
    "if USE_GPU:\n",
    "    cnn_batchnorm.cuda()\n",
    "\n",
    "opt = optim.Adam(cnn_batchnorm.parameters(), lr=1e-3)\n",
    "train_classifier(cnn_batchnorm, opt, 'cnn_batchnorm', train_data=augmented_train_data)"
   ]
  },
  {
   "cell_type": "markdown",
   "metadata": {
    "id": "yKrXVtQDewYF"
   },
   "source": [
    "## Strided Convolutions\n",
    "\n",
    "Max-pooling is a popular technique for reducing the spatial dimensionality\n",
    "of the outputs from conv layers. Another way to reduce dimensionality is striding. For an argument why this may be similarly effective, see [Springenberg et al., ICLRW'15](https://arxiv.org/pdf/1412.6806.pdf).\n",
    "\n",
    "Now create a model using the same architecture as before, with the difference of\n",
    "removing the max-pooling layers and increasing the stride parameter of the conv layers to $2 \\times 2$ in the spatial dimensions. "
   ]
  },
  {
   "cell_type": "code",
   "execution_count": 16,
   "metadata": {
    "colab": {
     "base_uri": "https://localhost:8080/"
    },
    "id": "Lb9uOp-_ewYF",
    "outputId": "3ed29d8e-d57d-4b4f-f5cd-9a7125ce3954"
   },
   "outputs": [
    {
     "name": "stderr",
     "output_type": "stream",
     "text": [
      "/usr/local/lib/python3.7/dist-packages/torch/utils/data/dataloader.py:490: UserWarning: This DataLoader will create 6 worker processes in total. Our suggested max number of worker in current system is 2, which is smaller than what this DataLoader is going to create. Please be aware that excessive worker creation might get DataLoader running slow or even freeze, lower the worker number to avoid potential slowness/freeze if necessary.\n",
      "  cpuset_checked))\n"
     ]
    },
    {
     "name": "stdout",
     "output_type": "stream",
     "text": [
      "Epoch 1 | train loss: 1.541, train accuracy: 0.445, test loss: 1.239, test accuracy: 0.557, time: 0:00:17\n",
      "Epoch 2 | train loss: 1.253, train accuracy: 0.556, test loss: 1.085, test accuracy: 0.615, time: 0:00:35\n",
      "Epoch 3 | train loss: 1.147, train accuracy: 0.594, test loss: 1.010, test accuracy: 0.640, time: 0:00:52\n",
      "Epoch 4 | train loss: 1.081, train accuracy: 0.621, test loss: 1.025, test accuracy: 0.644, time: 0:01:09\n",
      "Epoch 5 | train loss: 1.035, train accuracy: 0.638, test loss: 0.929, test accuracy: 0.674, time: 0:01:27\n",
      "Epoch 6 | train loss: 1.006, train accuracy: 0.648, test loss: 0.897, test accuracy: 0.689, time: 0:01:45\n",
      "Epoch 7 | train loss: 0.976, train accuracy: 0.660, test loss: 0.898, test accuracy: 0.684, time: 0:02:02\n",
      "Epoch 8 | train loss: 0.955, train accuracy: 0.667, test loss: 0.858, test accuracy: 0.701, time: 0:02:19\n",
      "Epoch 9 | train loss: 0.928, train accuracy: 0.676, test loss: 0.827, test accuracy: 0.712, time: 0:02:37\n",
      "Epoch 10 | train loss: 0.909, train accuracy: 0.683, test loss: 0.813, test accuracy: 0.716, time: 0:02:54\n",
      "Epoch 11 | train loss: 0.898, train accuracy: 0.689, test loss: 0.822, test accuracy: 0.712, time: 0:03:13\n",
      "Epoch 12 | train loss: 0.883, train accuracy: 0.696, test loss: 0.813, test accuracy: 0.722, time: 0:03:31\n",
      "Epoch 13 | train loss: 0.877, train accuracy: 0.694, test loss: 0.847, test accuracy: 0.710, time: 0:03:48\n",
      "Epoch 14 | train loss: 0.862, train accuracy: 0.701, test loss: 0.790, test accuracy: 0.728, time: 0:04:06\n",
      "Epoch 15 | train loss: 0.854, train accuracy: 0.704, test loss: 0.809, test accuracy: 0.720, time: 0:04:23\n",
      "Epoch 16 | train loss: 0.837, train accuracy: 0.710, test loss: 0.795, test accuracy: 0.726, time: 0:04:41\n",
      "Epoch 17 | train loss: 0.829, train accuracy: 0.713, test loss: 0.809, test accuracy: 0.720, time: 0:04:58\n",
      "Epoch 18 | train loss: 0.828, train accuracy: 0.716, test loss: 0.779, test accuracy: 0.733, time: 0:05:16\n",
      "Epoch 19 | train loss: 0.821, train accuracy: 0.717, test loss: 0.773, test accuracy: 0.732, time: 0:05:33\n",
      "Epoch 20 | train loss: 0.810, train accuracy: 0.719, test loss: 0.766, test accuracy: 0.736, time: 0:05:51\n",
      "Epoch 21 | train loss: 0.806, train accuracy: 0.720, test loss: 0.757, test accuracy: 0.743, time: 0:06:08\n",
      "Epoch 22 | train loss: 0.799, train accuracy: 0.722, test loss: 0.751, test accuracy: 0.744, time: 0:06:26\n",
      "Epoch 23 | train loss: 0.792, train accuracy: 0.727, test loss: 0.750, test accuracy: 0.743, time: 0:06:43\n",
      "Epoch 24 | train loss: 0.784, train accuracy: 0.727, test loss: 0.755, test accuracy: 0.740, time: 0:07:02\n",
      "Epoch 25 | train loss: 0.778, train accuracy: 0.733, test loss: 0.716, test accuracy: 0.753, time: 0:07:19\n",
      "Epoch 26 | train loss: 0.779, train accuracy: 0.733, test loss: 0.739, test accuracy: 0.747, time: 0:07:37\n",
      "Epoch 27 | train loss: 0.777, train accuracy: 0.732, test loss: 0.738, test accuracy: 0.743, time: 0:07:54\n",
      "Epoch 28 | train loss: 0.768, train accuracy: 0.735, test loss: 0.716, test accuracy: 0.757, time: 0:08:12\n",
      "Epoch 29 | train loss: 0.757, train accuracy: 0.736, test loss: 0.758, test accuracy: 0.740, time: 0:08:29\n",
      "Epoch 30 | train loss: 0.759, train accuracy: 0.739, test loss: 0.722, test accuracy: 0.751, time: 0:08:47\n",
      "Epoch 31 | train loss: 0.750, train accuracy: 0.741, test loss: 0.724, test accuracy: 0.754, time: 0:09:04\n",
      "Epoch 32 | train loss: 0.750, train accuracy: 0.739, test loss: 0.725, test accuracy: 0.749, time: 0:09:22\n",
      "Epoch 33 | train loss: 0.744, train accuracy: 0.742, test loss: 0.691, test accuracy: 0.765, time: 0:09:39\n",
      "Epoch 34 | train loss: 0.746, train accuracy: 0.742, test loss: 0.704, test accuracy: 0.759, time: 0:09:57\n",
      "Epoch 35 | train loss: 0.740, train accuracy: 0.744, test loss: 0.713, test accuracy: 0.757, time: 0:10:14\n",
      "Epoch 36 | train loss: 0.735, train accuracy: 0.746, test loss: 0.696, test accuracy: 0.764, time: 0:10:33\n",
      "Epoch 37 | train loss: 0.731, train accuracy: 0.748, test loss: 0.693, test accuracy: 0.762, time: 0:10:51\n",
      "Epoch 38 | train loss: 0.725, train accuracy: 0.750, test loss: 0.691, test accuracy: 0.765, time: 0:11:08\n",
      "Epoch 39 | train loss: 0.730, train accuracy: 0.747, test loss: 0.700, test accuracy: 0.763, time: 0:11:26\n",
      "Epoch 40 | train loss: 0.722, train accuracy: 0.751, test loss: 0.679, test accuracy: 0.771, time: 0:11:44\n",
      "Epoch 41 | train loss: 0.724, train accuracy: 0.750, test loss: 0.691, test accuracy: 0.761, time: 0:12:01\n",
      "Epoch 42 | train loss: 0.722, train accuracy: 0.748, test loss: 0.726, test accuracy: 0.756, time: 0:12:19\n",
      "Epoch 43 | train loss: 0.717, train accuracy: 0.751, test loss: 0.686, test accuracy: 0.766, time: 0:12:36\n",
      "Epoch 44 | train loss: 0.714, train accuracy: 0.752, test loss: 0.702, test accuracy: 0.758, time: 0:12:54\n",
      "Epoch 45 | train loss: 0.708, train accuracy: 0.756, test loss: 0.694, test accuracy: 0.762, time: 0:13:11\n",
      "Epoch 46 | train loss: 0.704, train accuracy: 0.756, test loss: 0.689, test accuracy: 0.763, time: 0:13:29\n",
      "Epoch 47 | train loss: 0.707, train accuracy: 0.757, test loss: 0.685, test accuracy: 0.768, time: 0:13:47\n",
      "Epoch 48 | train loss: 0.703, train accuracy: 0.758, test loss: 0.680, test accuracy: 0.772, time: 0:14:04\n",
      "Epoch 49 | train loss: 0.701, train accuracy: 0.759, test loss: 0.692, test accuracy: 0.765, time: 0:14:23\n",
      "Epoch 50 | train loss: 0.700, train accuracy: 0.757, test loss: 0.664, test accuracy: 0.776, time: 0:14:41\n"
     ]
    }
   ],
   "source": [
    "# POINTS: 2\n",
    "\n",
    "cnn_strides = nn.Sequential(\n",
    "    # YOUR CODE HERE\n",
    "    nn.Conv2d(in_channels=3, out_channels=64, kernel_size=3, padding=1, stride=2),\n",
    "    nn.BatchNorm2d(num_features=64),\n",
    "    nn.ReLU(),\n",
    "    nn.Conv2d(in_channels=64, out_channels=64, kernel_size=3, padding=1, stride=2),\n",
    "    nn.BatchNorm2d(num_features=64),\n",
    "    nn.ReLU(),\n",
    "    nn.Flatten(),\n",
    "    nn.Linear(in_features=4096, out_features=10)\n",
    ")\n",
    "if USE_GPU:\n",
    "    cnn_strides.cuda()\n",
    "\n",
    "opt = optim.Adam(cnn_strides.parameters(), lr=1e-3)\n",
    "train_classifier(cnn_strides, opt, 'cnn_strides', train_data=augmented_train_data)"
   ]
  },
  {
   "cell_type": "markdown",
   "metadata": {
    "id": "VD37wAOPewYF"
   },
   "source": [
    "What differences do you notice when training this new network?\n",
    "What is a clear advantage of using strides?"
   ]
  },
  {
   "cell_type": "markdown",
   "metadata": {
    "id": "OXofjJgFewYF"
   },
   "source": [
    "*POINTS: 0*\n",
    "\n",
    "YOUR ANSWER HERE"
   ]
  },
  {
   "cell_type": "markdown",
   "metadata": {
    "id": "LMF9oak1ewYF"
   },
   "source": [
    "## Global Pooling\n",
    "\n",
    "The above network ends in a `Flatten` layer followed by a `Linear` layer, in which the number of weights depends on the input size. This means that testing can only be performed on the exact same image size. Several architectures employ a (spatial) **global average pooling layer** to produce a vector of fixed size describing the whole image.\n",
    "\n",
    "Implement the forward pass of such a layer below. The input `x` has size `[batch_size, channels, height, width]`. The mean must be computed across the last two dimensions, such that the result `pooled` has a size of `[batch_size, channels]`. Note, that you cannot use numpy for this as PyTorch is not able to backpropagate through numpy functions. There are however corresponding PyTorch functions for almost all numpy functions.\n",
    "\n",
    "This layer can now replace the flattening operation from the previous network. However, the units before the average pooling need to have a large enough receptive field, otherwise the model will not work well. Therefore, compared with the previous model, remove the `Flatten` layer and instead add a third Conv-BatchNorm-ReLU combination. Then add `GlobalAvgPool2d` and a final `Linear` layer which returns $10$ values per sample instead of $64$.\n",
    "\n",
    "Train it and see if it reaches similar accuracy to the previous one."
   ]
  },
  {
   "cell_type": "code",
   "execution_count": 17,
   "metadata": {
    "colab": {
     "base_uri": "https://localhost:8080/"
    },
    "id": "Q0tPitt-ewYF",
    "outputId": "b853dd54-9643-4f91-965d-f7ed24527a30"
   },
   "outputs": [
    {
     "name": "stderr",
     "output_type": "stream",
     "text": [
      "/usr/local/lib/python3.7/dist-packages/torch/utils/data/dataloader.py:490: UserWarning: This DataLoader will create 6 worker processes in total. Our suggested max number of worker in current system is 2, which is smaller than what this DataLoader is going to create. Please be aware that excessive worker creation might get DataLoader running slow or even freeze, lower the worker number to avoid potential slowness/freeze if necessary.\n",
      "  cpuset_checked))\n"
     ]
    },
    {
     "name": "stdout",
     "output_type": "stream",
     "text": [
      "Epoch 1 | train loss: 1.659, train accuracy: 0.399, test loss: 1.414, test accuracy: 0.489, time: 0:00:17\n",
      "Epoch 2 | train loss: 1.361, train accuracy: 0.510, test loss: 1.280, test accuracy: 0.539, time: 0:00:36\n",
      "Epoch 3 | train loss: 1.250, train accuracy: 0.553, test loss: 1.203, test accuracy: 0.572, time: 0:00:53\n",
      "Epoch 4 | train loss: 1.180, train accuracy: 0.580, test loss: 1.152, test accuracy: 0.584, time: 0:01:11\n",
      "Epoch 5 | train loss: 1.127, train accuracy: 0.599, test loss: 1.198, test accuracy: 0.575, time: 0:01:29\n",
      "Epoch 6 | train loss: 1.088, train accuracy: 0.614, test loss: 1.077, test accuracy: 0.620, time: 0:01:47\n",
      "Epoch 7 | train loss: 1.055, train accuracy: 0.627, test loss: 1.029, test accuracy: 0.638, time: 0:02:05\n",
      "Epoch 8 | train loss: 1.028, train accuracy: 0.638, test loss: 1.010, test accuracy: 0.638, time: 0:02:23\n",
      "Epoch 9 | train loss: 1.005, train accuracy: 0.644, test loss: 1.026, test accuracy: 0.635, time: 0:02:41\n",
      "Epoch 10 | train loss: 0.985, train accuracy: 0.653, test loss: 0.965, test accuracy: 0.657, time: 0:02:59\n",
      "Epoch 11 | train loss: 0.967, train accuracy: 0.660, test loss: 0.971, test accuracy: 0.658, time: 0:03:18\n",
      "Epoch 12 | train loss: 0.948, train accuracy: 0.666, test loss: 0.989, test accuracy: 0.651, time: 0:03:36\n",
      "Epoch 13 | train loss: 0.931, train accuracy: 0.672, test loss: 1.022, test accuracy: 0.638, time: 0:03:54\n",
      "Epoch 14 | train loss: 0.915, train accuracy: 0.681, test loss: 0.917, test accuracy: 0.680, time: 0:04:12\n",
      "Epoch 15 | train loss: 0.899, train accuracy: 0.685, test loss: 0.955, test accuracy: 0.666, time: 0:04:30\n",
      "Epoch 16 | train loss: 0.892, train accuracy: 0.686, test loss: 0.904, test accuracy: 0.682, time: 0:04:48\n",
      "Epoch 17 | train loss: 0.886, train accuracy: 0.690, test loss: 0.863, test accuracy: 0.691, time: 0:05:06\n",
      "Epoch 18 | train loss: 0.871, train accuracy: 0.693, test loss: 0.844, test accuracy: 0.703, time: 0:05:24\n",
      "Epoch 19 | train loss: 0.863, train accuracy: 0.696, test loss: 0.873, test accuracy: 0.688, time: 0:05:42\n",
      "Epoch 20 | train loss: 0.848, train accuracy: 0.704, test loss: 0.876, test accuracy: 0.691, time: 0:06:00\n",
      "Epoch 21 | train loss: 0.837, train accuracy: 0.705, test loss: 0.841, test accuracy: 0.702, time: 0:06:18\n",
      "Epoch 22 | train loss: 0.833, train accuracy: 0.707, test loss: 0.864, test accuracy: 0.695, time: 0:06:36\n",
      "Epoch 23 | train loss: 0.827, train accuracy: 0.710, test loss: 0.800, test accuracy: 0.717, time: 0:06:54\n",
      "Epoch 24 | train loss: 0.815, train accuracy: 0.713, test loss: 0.823, test accuracy: 0.709, time: 0:07:13\n",
      "Epoch 25 | train loss: 0.810, train accuracy: 0.718, test loss: 0.845, test accuracy: 0.698, time: 0:07:31\n",
      "Epoch 26 | train loss: 0.799, train accuracy: 0.719, test loss: 0.817, test accuracy: 0.712, time: 0:07:50\n",
      "Epoch 27 | train loss: 0.797, train accuracy: 0.719, test loss: 0.788, test accuracy: 0.722, time: 0:08:08\n",
      "Epoch 28 | train loss: 0.788, train accuracy: 0.725, test loss: 0.847, test accuracy: 0.705, time: 0:08:26\n",
      "Epoch 29 | train loss: 0.785, train accuracy: 0.725, test loss: 0.801, test accuracy: 0.718, time: 0:08:44\n",
      "Epoch 30 | train loss: 0.776, train accuracy: 0.730, test loss: 0.838, test accuracy: 0.705, time: 0:09:02\n",
      "Epoch 31 | train loss: 0.770, train accuracy: 0.729, test loss: 0.782, test accuracy: 0.724, time: 0:09:20\n",
      "Epoch 32 | train loss: 0.768, train accuracy: 0.732, test loss: 0.773, test accuracy: 0.728, time: 0:09:38\n",
      "Epoch 33 | train loss: 0.764, train accuracy: 0.733, test loss: 0.779, test accuracy: 0.727, time: 0:09:56\n",
      "Epoch 34 | train loss: 0.752, train accuracy: 0.736, test loss: 0.761, test accuracy: 0.731, time: 0:10:15\n",
      "Epoch 35 | train loss: 0.750, train accuracy: 0.737, test loss: 0.762, test accuracy: 0.730, time: 0:10:33\n",
      "Epoch 36 | train loss: 0.744, train accuracy: 0.740, test loss: 0.765, test accuracy: 0.735, time: 0:10:51\n",
      "Epoch 37 | train loss: 0.741, train accuracy: 0.738, test loss: 0.834, test accuracy: 0.709, time: 0:11:10\n",
      "Epoch 38 | train loss: 0.741, train accuracy: 0.742, test loss: 0.731, test accuracy: 0.744, time: 0:11:27\n",
      "Epoch 39 | train loss: 0.731, train accuracy: 0.745, test loss: 0.748, test accuracy: 0.740, time: 0:11:45\n",
      "Epoch 40 | train loss: 0.730, train accuracy: 0.746, test loss: 0.750, test accuracy: 0.734, time: 0:12:05\n",
      "Epoch 41 | train loss: 0.726, train accuracy: 0.748, test loss: 0.773, test accuracy: 0.731, time: 0:12:25\n",
      "Epoch 42 | train loss: 0.723, train accuracy: 0.746, test loss: 0.752, test accuracy: 0.739, time: 0:12:43\n",
      "Epoch 43 | train loss: 0.719, train accuracy: 0.749, test loss: 0.729, test accuracy: 0.743, time: 0:13:02\n",
      "Epoch 44 | train loss: 0.714, train accuracy: 0.748, test loss: 0.751, test accuracy: 0.743, time: 0:13:20\n",
      "Epoch 45 | train loss: 0.715, train accuracy: 0.753, test loss: 0.785, test accuracy: 0.728, time: 0:13:38\n",
      "Epoch 46 | train loss: 0.708, train accuracy: 0.754, test loss: 0.726, test accuracy: 0.747, time: 0:13:56\n",
      "Epoch 47 | train loss: 0.703, train accuracy: 0.756, test loss: 0.744, test accuracy: 0.743, time: 0:14:14\n",
      "Epoch 48 | train loss: 0.698, train accuracy: 0.757, test loss: 0.721, test accuracy: 0.748, time: 0:14:32\n",
      "Epoch 49 | train loss: 0.697, train accuracy: 0.756, test loss: 0.706, test accuracy: 0.755, time: 0:14:51\n",
      "Epoch 50 | train loss: 0.695, train accuracy: 0.757, test loss: 0.755, test accuracy: 0.740, time: 0:15:09\n"
     ]
    }
   ],
   "source": [
    "# POINTS: 4\n",
    "\n",
    "class GlobalAvgPool2d(torch.nn.Module):\n",
    "    def __init__(self):\n",
    "        super().__init__()\n",
    "    def forward(self, x):\n",
    "        # YOUR CODE HERE\n",
    "        d = x.ndim\n",
    "        pooled = torch.mean(x, (d-2,d-1))\n",
    "        return pooled\n",
    "\n",
    "\n",
    "cnn_global_pool = nn.Sequential(\n",
    "    # YOUR CODE HERE \n",
    "    nn.Conv2d(in_channels=3, out_channels=64, kernel_size=3, padding=1, stride=2),\n",
    "    nn.BatchNorm2d(num_features=64),\n",
    "    nn.ReLU(),\n",
    "    nn.Conv2d(in_channels=64, out_channels=64, kernel_size=3, padding=1, stride=2),\n",
    "    nn.BatchNorm2d(num_features=64),\n",
    "    nn.ReLU(),\n",
    "    nn.Conv2d(in_channels=64, out_channels=64, kernel_size=3, padding=1, stride=2),\n",
    "    nn.BatchNorm2d(num_features=64),\n",
    "    nn.ReLU(),\n",
    "    GlobalAvgPool2d(),\n",
    "    nn.Linear(in_features=64, out_features=10)\n",
    ")\n",
    "if USE_GPU:\n",
    "    cnn_global_pool.cuda()\n",
    "\n",
    "opt = optim.Adam(cnn_global_pool.parameters(), lr=1e-3)\n",
    "train_classifier(cnn_global_pool, opt, 'cnn_global_pool', train_data=augmented_train_data)"
   ]
  },
  {
   "cell_type": "markdown",
   "metadata": {
    "id": "nVPwu30cewYG"
   },
   "source": [
    "Which network has more parameters, this or the previous one?\n",
    "\n",
    "What is the size of the receptive field of the units in the layer directly before the global average pooling? (Remember: the receptive field of a particular unit (neuron) is the area of the *input image* that can influence the activation of this given unit)."
   ]
  },
  {
   "cell_type": "markdown",
   "metadata": {
    "id": "PcM7y9gqewYG"
   },
   "source": [
    "*POINTS: 0*\n",
    "\n",
    "YOUR ANSWER HERE"
   ]
  },
  {
   "cell_type": "markdown",
   "metadata": {
    "id": "NwYYJ3KeewYG"
   },
   "source": [
    "## Residual Networks\n",
    "\n",
    "ResNet is a more modern architecture, introduced by He et al. in 2015 (published in 2016: https://www.cv-foundation.org/openaccess/content_cvpr_2016/papers/He_Deep_Residual_Learning_CVPR_2016_paper.pdf) and is still popular today.\n",
    "\n",
    "It consists of blocks like the following:\n",
    "\n",
    "![ResNet Block](resnet_block.png)\n",
    "\n",
    "Each of these so-called *residual blocks* only have to predict a *residual* (in plain words: the \"rest\", the \"leftover\") that will be added on top of its input.\n",
    "In other words, the block outputs how much each feature needs to be changed in order to enhance the representation compared to the previous block.\n",
    "\n",
    "There are several ways to combine residual blocks into *residual networks* (ResNets). In the following, we consider ResNet-v1, as used for the CIFAR-10 benchmark in the original ResNet paper (it is simpler compared to the full model that they used for the much larger ImageNet benchmark).\n",
    "\n",
    "Section 4.2. of the paper describes this architecture as follows: \"*The first layer is 3×3 convolutions. Then we use a stack of 6n layers with 3×3 convolutions on the feature maps of sizes {32, 16, 8} respectively, with 2n layers for each feature map size. The numbers of filters are {16, 32, 64} respectively. The subsampling is performed by convolutions with a stride of 2. The network ends with a global average pooling, a 10-way fully-connected layer, and softmax. [...] When shortcut connections are used, they are connected to the pairs of 3×3 layers (totally 3n shortcuts). On this dataset we use identity shortcuts in all cases.*\"\n",
    "\n",
    "Further, they use L2 regularization for training (a standard tool to combat overfitting). This penalizes weights with large magnitude by adding an additional term to the cost function, besides the cross-entropy. The overall function to optimize becomes:\n",
    "\n",
    "$$\n",
    "\\mathcal{L}_{CE} + \\frac{\\lambda}{2} \\sum_{w\\in\\text{weights}} w^2,\n",
    "$$\n",
    "\n",
    "and in this paper $\\lambda=10^{-4}$.\n",
    "\n",
    "Use the explanation above to complete the `layers`-list in the `ResNet`-class below. Note, that the first layer is already added and remember that the final softmax has to be omitted. The `ResNetBlock` already implements the above figure, i.e. contains $2$ convolutions.\n",
    "\n",
    "Weight decay is already added by setting the corresponding attribute of the opimizer."
   ]
  },
  {
   "cell_type": "code",
   "execution_count": 18,
   "metadata": {
    "id": "Zf1WVVvpewYG"
   },
   "outputs": [],
   "source": [
    "## POINTS: 6\n",
    "\n",
    "class ResNetBlock(torch.nn.Module):\n",
    "    def __init__(self, in_channels, out_channels, stride=1):\n",
    "        super().__init__()\n",
    "        self.f = nn.Sequential(\n",
    "            nn.Conv2d(in_channels, out_channels, kernel_size=3, stride=stride, padding=1, bias=False),\n",
    "            nn.BatchNorm2d(out_channels),\n",
    "            nn.ReLU(),\n",
    "            nn.Conv2d(out_channels, out_channels, kernel_size=3, padding=1, bias=False),\n",
    "            nn.BatchNorm2d(out_channels)\n",
    "        )\n",
    "        self.activation = nn.ReLU()\n",
    "        # The shortcut connection is just the identity. If feature\n",
    "        # channel counts differ between input and output, zero\n",
    "        # padding is used to match the depths. This is implemented\n",
    "        # by a convolution with the following fixed weight:\n",
    "        self.pad_weight = nn.Parameter(\n",
    "            torch.eye(out_channels, in_channels)[:, :, None, None],\n",
    "            requires_grad=False\n",
    "        )\n",
    "        self.stride = stride\n",
    "\n",
    "    def forward(self, x):\n",
    "        r = self.f(x)\n",
    "        # We apply the padding weight using torch.functional.conv2d\n",
    "        # which allows us to use a custom weight matrix.\n",
    "        x = F.conv2d(x, self.pad_weight, stride=self.stride)\n",
    "        return self.activation(x + r)\n",
    "    \n",
    "\n",
    "class ResNet(torch.nn.Module):\n",
    "    def __init__(self, num_layers=14, in_channels=3, out_features=10):\n",
    "        super().__init__()\n",
    "        if (num_layers - 2) % 6 != 0:\n",
    "            raise ValueError('n_layers should be 6n+2 (eg 20, 32, 44, 56)')\n",
    "        n = (num_layers - 2) // 6\n",
    "        \n",
    "        layers = []\n",
    "        \n",
    "        first_layer = nn.Sequential(\n",
    "            nn.Conv2d(in_channels, 16, kernel_size=3, padding=1, bias=False),\n",
    "            nn.BatchNorm2d(16),\n",
    "            nn.ReLU()\n",
    "        )\n",
    "        \n",
    "        layers.append(first_layer)\n",
    "\n",
    "        # YOUR CODE HERE\n",
    "        for i in range(2*n):\n",
    "            layers.append(ResNetBlock(16, 32 if (i == (2 * n) - 1) else 16, stride=2 if (i == (2 * n) - 1) else 1))\n",
    "        for i in range(2*n):\n",
    "            layers.append(ResNetBlock(32, 64 if (i == (2 * n) - 1) else 32, stride=2 if (i == (2 * n) - 1) else 1))\n",
    "        for i in range(2*n):\n",
    "            layers.append(ResNetBlock(64, 64, stride=2 if (i == (2 * n) - 1) else 1))\n",
    "        \n",
    "        layers.append(GlobalAvgPool2d())\n",
    "        layers.append(nn.Linear(64, 10))\n",
    "        \n",
    "        self.net = nn.Sequential(*layers)\n",
    "\n",
    "    def forward(self, x):\n",
    "        return self.net(x)"
   ]
  },
  {
   "cell_type": "markdown",
   "metadata": {
    "id": "MGLMD38_ewYH"
   },
   "source": [
    "Train ResNet-18 on the CIFAR-10 dataset for 50 epochs. As a rough idea, it will take less than 15 minutes with a good GPU, but on a CPU it can take several hours."
   ]
  },
  {
   "cell_type": "code",
   "execution_count": 19,
   "metadata": {
    "colab": {
     "base_uri": "https://localhost:8080/"
    },
    "id": "D_-WaNmyewYH",
    "outputId": "daf5a8b4-21b0-4792-aded-b748f3796e2e"
   },
   "outputs": [
    {
     "name": "stderr",
     "output_type": "stream",
     "text": [
      "/usr/local/lib/python3.7/dist-packages/torch/utils/data/dataloader.py:490: UserWarning: This DataLoader will create 6 worker processes in total. Our suggested max number of worker in current system is 2, which is smaller than what this DataLoader is going to create. Please be aware that excessive worker creation might get DataLoader running slow or even freeze, lower the worker number to avoid potential slowness/freeze if necessary.\n",
      "  cpuset_checked))\n"
     ]
    },
    {
     "name": "stdout",
     "output_type": "stream",
     "text": [
      "Epoch 1 | train loss: 1.461, train accuracy: 0.462, test loss: 1.353, test accuracy: 0.526, time: 0:00:25\n",
      "Epoch 2 | train loss: 1.022, train accuracy: 0.633, test loss: 1.258, test accuracy: 0.586, time: 0:00:52\n",
      "Epoch 3 | train loss: 0.823, train accuracy: 0.710, test loss: 0.866, test accuracy: 0.705, time: 0:01:17\n",
      "Epoch 4 | train loss: 0.721, train accuracy: 0.748, test loss: 0.822, test accuracy: 0.720, time: 0:01:43\n",
      "Epoch 5 | train loss: 0.655, train accuracy: 0.774, test loss: 0.678, test accuracy: 0.767, time: 0:02:09\n",
      "Epoch 6 | train loss: 0.610, train accuracy: 0.787, test loss: 0.629, test accuracy: 0.780, time: 0:02:35\n",
      "Epoch 7 | train loss: 0.559, train accuracy: 0.806, test loss: 0.656, test accuracy: 0.777, time: 0:03:01\n",
      "Epoch 8 | train loss: 0.528, train accuracy: 0.818, test loss: 0.569, test accuracy: 0.806, time: 0:03:27\n",
      "Epoch 9 | train loss: 0.503, train accuracy: 0.823, test loss: 0.739, test accuracy: 0.765, time: 0:03:53\n",
      "Epoch 10 | train loss: 0.483, train accuracy: 0.832, test loss: 0.511, test accuracy: 0.833, time: 0:04:19\n",
      "Epoch 11 | train loss: 0.461, train accuracy: 0.837, test loss: 0.526, test accuracy: 0.824, time: 0:04:46\n",
      "Epoch 12 | train loss: 0.439, train accuracy: 0.848, test loss: 0.484, test accuracy: 0.836, time: 0:05:11\n",
      "Epoch 13 | train loss: 0.420, train accuracy: 0.854, test loss: 0.551, test accuracy: 0.819, time: 0:05:38\n",
      "Epoch 14 | train loss: 0.409, train accuracy: 0.859, test loss: 0.477, test accuracy: 0.840, time: 0:06:04\n",
      "Epoch 15 | train loss: 0.396, train accuracy: 0.863, test loss: 0.527, test accuracy: 0.824, time: 0:06:30\n",
      "Epoch 16 | train loss: 0.386, train accuracy: 0.867, test loss: 0.452, test accuracy: 0.847, time: 0:06:57\n",
      "Epoch 17 | train loss: 0.372, train accuracy: 0.871, test loss: 0.458, test accuracy: 0.846, time: 0:07:23\n",
      "Epoch 18 | train loss: 0.366, train accuracy: 0.873, test loss: 0.481, test accuracy: 0.841, time: 0:07:49\n",
      "Epoch 19 | train loss: 0.350, train accuracy: 0.879, test loss: 0.438, test accuracy: 0.853, time: 0:08:15\n",
      "Epoch 20 | train loss: 0.340, train accuracy: 0.881, test loss: 0.474, test accuracy: 0.846, time: 0:08:41\n",
      "Epoch 21 | train loss: 0.333, train accuracy: 0.882, test loss: 0.478, test accuracy: 0.844, time: 0:09:07\n",
      "Epoch 22 | train loss: 0.326, train accuracy: 0.888, test loss: 0.441, test accuracy: 0.853, time: 0:09:33\n",
      "Epoch 23 | train loss: 0.321, train accuracy: 0.888, test loss: 0.424, test accuracy: 0.862, time: 0:09:59\n",
      "Epoch 24 | train loss: 0.314, train accuracy: 0.890, test loss: 0.444, test accuracy: 0.857, time: 0:10:25\n",
      "Epoch 25 | train loss: 0.303, train accuracy: 0.893, test loss: 0.421, test accuracy: 0.863, time: 0:10:53\n",
      "Epoch 26 | train loss: 0.299, train accuracy: 0.896, test loss: 0.400, test accuracy: 0.871, time: 0:11:19\n",
      "Epoch 27 | train loss: 0.296, train accuracy: 0.896, test loss: 0.429, test accuracy: 0.863, time: 0:11:45\n",
      "Epoch 28 | train loss: 0.284, train accuracy: 0.902, test loss: 0.401, test accuracy: 0.867, time: 0:12:11\n",
      "Epoch 29 | train loss: 0.279, train accuracy: 0.902, test loss: 0.356, test accuracy: 0.882, time: 0:12:37\n",
      "Epoch 30 | train loss: 0.274, train accuracy: 0.904, test loss: 0.406, test accuracy: 0.866, time: 0:13:03\n",
      "Epoch 31 | train loss: 0.272, train accuracy: 0.904, test loss: 0.364, test accuracy: 0.880, time: 0:13:29\n",
      "Epoch 32 | train loss: 0.266, train accuracy: 0.907, test loss: 0.383, test accuracy: 0.878, time: 0:13:55\n",
      "Epoch 33 | train loss: 0.263, train accuracy: 0.907, test loss: 0.408, test accuracy: 0.870, time: 0:14:22\n",
      "Epoch 34 | train loss: 0.259, train accuracy: 0.908, test loss: 0.440, test accuracy: 0.857, time: 0:14:48\n",
      "Epoch 35 | train loss: 0.251, train accuracy: 0.912, test loss: 0.381, test accuracy: 0.878, time: 0:15:14\n",
      "Epoch 36 | train loss: 0.251, train accuracy: 0.912, test loss: 0.396, test accuracy: 0.874, time: 0:15:39\n",
      "Epoch 37 | train loss: 0.248, train accuracy: 0.914, test loss: 0.377, test accuracy: 0.880, time: 0:16:06\n",
      "Epoch 38 | train loss: 0.244, train accuracy: 0.914, test loss: 0.395, test accuracy: 0.875, time: 0:16:31\n",
      "Epoch 39 | train loss: 0.245, train accuracy: 0.915, test loss: 0.388, test accuracy: 0.879, time: 0:16:57\n",
      "Epoch 40 | train loss: 0.240, train accuracy: 0.916, test loss: 0.362, test accuracy: 0.885, time: 0:17:23\n",
      "Epoch 41 | train loss: 0.235, train accuracy: 0.917, test loss: 0.484, test accuracy: 0.853, time: 0:17:48\n",
      "Epoch 42 | train loss: 0.229, train accuracy: 0.919, test loss: 0.396, test accuracy: 0.875, time: 0:18:15\n",
      "Epoch 43 | train loss: 0.231, train accuracy: 0.919, test loss: 0.358, test accuracy: 0.884, time: 0:18:41\n",
      "Epoch 44 | train loss: 0.223, train accuracy: 0.922, test loss: 0.380, test accuracy: 0.881, time: 0:19:06\n",
      "Epoch 45 | train loss: 0.219, train accuracy: 0.923, test loss: 0.386, test accuracy: 0.878, time: 0:19:32\n",
      "Epoch 46 | train loss: 0.226, train accuracy: 0.921, test loss: 0.421, test accuracy: 0.871, time: 0:19:58\n",
      "Epoch 47 | train loss: 0.216, train accuracy: 0.925, test loss: 0.377, test accuracy: 0.882, time: 0:20:24\n",
      "Epoch 48 | train loss: 0.217, train accuracy: 0.923, test loss: 0.370, test accuracy: 0.883, time: 0:20:49\n",
      "Epoch 49 | train loss: 0.211, train accuracy: 0.925, test loss: 0.349, test accuracy: 0.891, time: 0:21:15\n",
      "Epoch 50 | train loss: 0.212, train accuracy: 0.926, test loss: 0.367, test accuracy: 0.881, time: 0:21:42\n"
     ]
    }
   ],
   "source": [
    "resnet = ResNet()\n",
    "if USE_GPU:\n",
    "    resnet.cuda()\n",
    "\n",
    "opt = optim.Adam(resnet.parameters(), lr=1e-3, weight_decay=1e-4)\n",
    "train_classifier(resnet, opt, f'resnet', train_data=augmented_train_data)"
   ]
  },
  {
   "cell_type": "markdown",
   "metadata": {
    "id": "kT9ykLMTewYH"
   },
   "source": [
    "## Learning Rate Decay\n",
    "\n",
    "Learning rate decay reduces the learning rate as the training progresses. Use the same settings as in the previous experiment, but this time create a `MultiStepLR`-scheduler and decrease the learning rate twice by a factor of 10 each."
   ]
  },
  {
   "cell_type": "code",
   "execution_count": 20,
   "metadata": {
    "colab": {
     "base_uri": "https://localhost:8080/"
    },
    "id": "0K7Is1WpewYH",
    "outputId": "be006554-1136-495d-8ecb-13d84fd11abf"
   },
   "outputs": [
    {
     "name": "stderr",
     "output_type": "stream",
     "text": [
      "/usr/local/lib/python3.7/dist-packages/torch/utils/data/dataloader.py:490: UserWarning: This DataLoader will create 6 worker processes in total. Our suggested max number of worker in current system is 2, which is smaller than what this DataLoader is going to create. Please be aware that excessive worker creation might get DataLoader running slow or even freeze, lower the worker number to avoid potential slowness/freeze if necessary.\n",
      "  cpuset_checked))\n"
     ]
    },
    {
     "name": "stdout",
     "output_type": "stream",
     "text": [
      "Epoch 1 | train loss: 1.466, train accuracy: 0.460, test loss: 1.306, test accuracy: 0.530, time: 0:00:25\n",
      "Epoch 2 | train loss: 1.042, train accuracy: 0.627, test loss: 1.392, test accuracy: 0.523, time: 0:00:51\n",
      "Epoch 3 | train loss: 0.869, train accuracy: 0.690, test loss: 0.969, test accuracy: 0.670, time: 0:01:16\n",
      "Epoch 4 | train loss: 0.754, train accuracy: 0.734, test loss: 0.945, test accuracy: 0.680, time: 0:01:42\n",
      "Epoch 5 | train loss: 0.680, train accuracy: 0.762, test loss: 0.760, test accuracy: 0.738, time: 0:02:08\n",
      "Epoch 6 | train loss: 0.626, train accuracy: 0.783, test loss: 0.685, test accuracy: 0.764, time: 0:02:34\n",
      "Epoch 7 | train loss: 0.579, train accuracy: 0.800, test loss: 0.710, test accuracy: 0.761, time: 0:03:00\n",
      "Epoch 8 | train loss: 0.545, train accuracy: 0.812, test loss: 0.625, test accuracy: 0.790, time: 0:03:26\n",
      "Epoch 9 | train loss: 0.521, train accuracy: 0.821, test loss: 0.547, test accuracy: 0.813, time: 0:03:51\n",
      "Epoch 10 | train loss: 0.489, train accuracy: 0.831, test loss: 0.519, test accuracy: 0.824, time: 0:04:17\n",
      "Epoch 11 | train loss: 0.470, train accuracy: 0.839, test loss: 0.523, test accuracy: 0.822, time: 0:04:43\n",
      "Epoch 12 | train loss: 0.456, train accuracy: 0.844, test loss: 0.526, test accuracy: 0.825, time: 0:05:09\n",
      "Epoch 13 | train loss: 0.438, train accuracy: 0.848, test loss: 0.513, test accuracy: 0.832, time: 0:05:34\n",
      "Epoch 14 | train loss: 0.421, train accuracy: 0.853, test loss: 0.500, test accuracy: 0.830, time: 0:06:00\n",
      "Epoch 15 | train loss: 0.404, train accuracy: 0.860, test loss: 0.523, test accuracy: 0.824, time: 0:06:25\n",
      "Epoch 16 | train loss: 0.321, train accuracy: 0.891, test loss: 0.358, test accuracy: 0.879, time: 0:06:51\n",
      "Epoch 17 | train loss: 0.297, train accuracy: 0.899, test loss: 0.356, test accuracy: 0.877, time: 0:07:17\n",
      "Epoch 18 | train loss: 0.283, train accuracy: 0.902, test loss: 0.354, test accuracy: 0.881, time: 0:07:43\n",
      "Epoch 19 | train loss: 0.275, train accuracy: 0.905, test loss: 0.356, test accuracy: 0.879, time: 0:08:09\n",
      "Epoch 20 | train loss: 0.271, train accuracy: 0.906, test loss: 0.349, test accuracy: 0.882, time: 0:08:35\n",
      "Epoch 21 | train loss: 0.266, train accuracy: 0.909, test loss: 0.349, test accuracy: 0.882, time: 0:09:01\n",
      "Epoch 22 | train loss: 0.257, train accuracy: 0.911, test loss: 0.345, test accuracy: 0.886, time: 0:09:26\n",
      "Epoch 23 | train loss: 0.256, train accuracy: 0.912, test loss: 0.345, test accuracy: 0.884, time: 0:09:52\n",
      "Epoch 24 | train loss: 0.252, train accuracy: 0.913, test loss: 0.350, test accuracy: 0.884, time: 0:10:18\n",
      "Epoch 25 | train loss: 0.247, train accuracy: 0.914, test loss: 0.349, test accuracy: 0.882, time: 0:10:44\n",
      "Epoch 26 | train loss: 0.246, train accuracy: 0.915, test loss: 0.347, test accuracy: 0.887, time: 0:11:10\n",
      "Epoch 27 | train loss: 0.243, train accuracy: 0.915, test loss: 0.346, test accuracy: 0.885, time: 0:11:36\n",
      "Epoch 28 | train loss: 0.237, train accuracy: 0.919, test loss: 0.349, test accuracy: 0.887, time: 0:12:01\n",
      "Epoch 29 | train loss: 0.234, train accuracy: 0.918, test loss: 0.342, test accuracy: 0.888, time: 0:12:27\n",
      "Epoch 30 | train loss: 0.229, train accuracy: 0.920, test loss: 0.342, test accuracy: 0.888, time: 0:12:53\n",
      "Epoch 31 | train loss: 0.226, train accuracy: 0.921, test loss: 0.345, test accuracy: 0.885, time: 0:13:18\n",
      "Epoch 32 | train loss: 0.226, train accuracy: 0.920, test loss: 0.344, test accuracy: 0.889, time: 0:13:44\n",
      "Epoch 33 | train loss: 0.218, train accuracy: 0.925, test loss: 0.344, test accuracy: 0.889, time: 0:14:09\n",
      "Epoch 34 | train loss: 0.220, train accuracy: 0.924, test loss: 0.340, test accuracy: 0.890, time: 0:14:36\n",
      "Epoch 35 | train loss: 0.213, train accuracy: 0.925, test loss: 0.352, test accuracy: 0.886, time: 0:15:02\n",
      "Epoch 36 | train loss: 0.201, train accuracy: 0.930, test loss: 0.337, test accuracy: 0.890, time: 0:15:28\n",
      "Epoch 37 | train loss: 0.202, train accuracy: 0.931, test loss: 0.339, test accuracy: 0.888, time: 0:15:53\n",
      "Epoch 38 | train loss: 0.200, train accuracy: 0.930, test loss: 0.336, test accuracy: 0.891, time: 0:16:19\n",
      "Epoch 39 | train loss: 0.195, train accuracy: 0.931, test loss: 0.334, test accuracy: 0.890, time: 0:16:44\n",
      "Epoch 40 | train loss: 0.197, train accuracy: 0.932, test loss: 0.336, test accuracy: 0.890, time: 0:17:10\n",
      "Epoch 41 | train loss: 0.197, train accuracy: 0.931, test loss: 0.333, test accuracy: 0.892, time: 0:17:37\n",
      "Epoch 42 | train loss: 0.194, train accuracy: 0.933, test loss: 0.336, test accuracy: 0.890, time: 0:18:02\n",
      "Epoch 43 | train loss: 0.192, train accuracy: 0.933, test loss: 0.335, test accuracy: 0.890, time: 0:18:28\n",
      "Epoch 44 | train loss: 0.193, train accuracy: 0.933, test loss: 0.336, test accuracy: 0.890, time: 0:18:54\n",
      "Epoch 45 | train loss: 0.191, train accuracy: 0.934, test loss: 0.335, test accuracy: 0.889, time: 0:19:20\n",
      "Epoch 46 | train loss: 0.193, train accuracy: 0.934, test loss: 0.339, test accuracy: 0.889, time: 0:19:46\n",
      "Epoch 47 | train loss: 0.191, train accuracy: 0.935, test loss: 0.339, test accuracy: 0.889, time: 0:20:12\n",
      "Epoch 48 | train loss: 0.190, train accuracy: 0.933, test loss: 0.334, test accuracy: 0.891, time: 0:20:38\n",
      "Epoch 49 | train loss: 0.191, train accuracy: 0.933, test loss: 0.337, test accuracy: 0.890, time: 0:21:03\n",
      "Epoch 50 | train loss: 0.190, train accuracy: 0.933, test loss: 0.336, test accuracy: 0.890, time: 0:21:30\n"
     ]
    }
   ],
   "source": [
    "# POINTS: 2\n",
    "\n",
    "resnet_decay = ResNet()\n",
    "if USE_GPU:\n",
    "    resnet_decay.cuda()\n",
    "\n",
    "opt = optim.Adam(resnet_decay.parameters(), lr=1e-3, weight_decay=1e-4)\n",
    "scheduler = optim.lr_scheduler.MultiStepLR(opt, milestones=[15, 35], gamma=0.1)\n",
    "train_classifier(resnet_decay, opt, 'resnet_decay', lr_scheduler=scheduler, train_data=augmented_train_data)"
   ]
  },
  {
   "cell_type": "code",
   "execution_count": 20,
   "metadata": {
    "id": "Um7iIoSfewYI"
   },
   "outputs": [],
   "source": []
  }
 ],
 "metadata": {
  "accelerator": "GPU",
  "colab": {
   "collapsed_sections": [],
   "name": "convolutional_neural_nets.ipynb",
   "provenance": [],
   "toc_visible": true
  },
  "gpuClass": "standard",
  "kernelspec": {
   "display_name": "Python 3 (ipykernel)",
   "language": "python",
   "name": "python3"
  },
  "language_info": {
   "codemirror_mode": {
    "name": "ipython",
    "version": 3
   },
   "file_extension": ".py",
   "mimetype": "text/x-python",
   "name": "python",
   "nbconvert_exporter": "python",
   "pygments_lexer": "ipython3",
   "version": "3.9.7"
  },
  "widgets": {
   "application/vnd.jupyter.widget-state+json": {
    "006a997f0f894aa8b9a52c9743eef88f": {
     "model_module": "@jupyter-widgets/controls",
     "model_module_version": "1.5.0",
     "model_name": "ProgressStyleModel",
     "state": {
      "_model_module": "@jupyter-widgets/controls",
      "_model_module_version": "1.5.0",
      "_model_name": "ProgressStyleModel",
      "_view_count": null,
      "_view_module": "@jupyter-widgets/base",
      "_view_module_version": "1.2.0",
      "_view_name": "StyleView",
      "bar_color": null,
      "description_width": ""
     }
    },
    "044a5d5c9a0d4e2dbddcb5b4a3ad3754": {
     "model_module": "@jupyter-widgets/base",
     "model_module_version": "1.2.0",
     "model_name": "LayoutModel",
     "state": {
      "_model_module": "@jupyter-widgets/base",
      "_model_module_version": "1.2.0",
      "_model_name": "LayoutModel",
      "_view_count": null,
      "_view_module": "@jupyter-widgets/base",
      "_view_module_version": "1.2.0",
      "_view_name": "LayoutView",
      "align_content": null,
      "align_items": null,
      "align_self": null,
      "border": null,
      "bottom": null,
      "display": null,
      "flex": null,
      "flex_flow": null,
      "grid_area": null,
      "grid_auto_columns": null,
      "grid_auto_flow": null,
      "grid_auto_rows": null,
      "grid_column": null,
      "grid_gap": null,
      "grid_row": null,
      "grid_template_areas": null,
      "grid_template_columns": null,
      "grid_template_rows": null,
      "height": null,
      "justify_content": null,
      "justify_items": null,
      "left": null,
      "margin": null,
      "max_height": null,
      "max_width": null,
      "min_height": null,
      "min_width": null,
      "object_fit": null,
      "object_position": null,
      "order": null,
      "overflow": null,
      "overflow_x": null,
      "overflow_y": null,
      "padding": null,
      "right": null,
      "top": null,
      "visibility": null,
      "width": null
     }
    },
    "2167d8f13d264e17a1ed1edc76589231": {
     "model_module": "@jupyter-widgets/controls",
     "model_module_version": "1.5.0",
     "model_name": "HTMLModel",
     "state": {
      "_dom_classes": [],
      "_model_module": "@jupyter-widgets/controls",
      "_model_module_version": "1.5.0",
      "_model_name": "HTMLModel",
      "_view_count": null,
      "_view_module": "@jupyter-widgets/controls",
      "_view_module_version": "1.5.0",
      "_view_name": "HTMLView",
      "description": "",
      "description_tooltip": null,
      "layout": "IPY_MODEL_ebc55372048645b59beb007cee39ba3c",
      "placeholder": "​",
      "style": "IPY_MODEL_c394d6e015254371ae0d5d8962ca2082",
      "value": ""
     }
    },
    "24e7e46f8e494cd0b4f06252cda6ea72": {
     "model_module": "@jupyter-widgets/controls",
     "model_module_version": "1.5.0",
     "model_name": "HTMLModel",
     "state": {
      "_dom_classes": [],
      "_model_module": "@jupyter-widgets/controls",
      "_model_module_version": "1.5.0",
      "_model_name": "HTMLModel",
      "_view_count": null,
      "_view_module": "@jupyter-widgets/controls",
      "_view_module_version": "1.5.0",
      "_view_name": "HTMLView",
      "description": "",
      "description_tooltip": null,
      "layout": "IPY_MODEL_42201169f0c747da993873358b4aeadb",
      "placeholder": "​",
      "style": "IPY_MODEL_cf3ced1ecd2d4760b042bc1ffd77ce12",
      "value": " 170499072/? [00:03&lt;00:00, 53215048.97it/s]"
     }
    },
    "28d103b8dcfe4f949d34659975c9a14f": {
     "model_module": "@jupyter-widgets/controls",
     "model_module_version": "1.5.0",
     "model_name": "FloatProgressModel",
     "state": {
      "_dom_classes": [],
      "_model_module": "@jupyter-widgets/controls",
      "_model_module_version": "1.5.0",
      "_model_name": "FloatProgressModel",
      "_view_count": null,
      "_view_module": "@jupyter-widgets/controls",
      "_view_module_version": "1.5.0",
      "_view_name": "ProgressView",
      "bar_style": "success",
      "description": "",
      "description_tooltip": null,
      "layout": "IPY_MODEL_6da29dcb050b40c0903e7384986fc1dc",
      "max": 170498071,
      "min": 0,
      "orientation": "horizontal",
      "style": "IPY_MODEL_7246fe7bc3854b0aa9340b5f48f65918",
      "value": 170498071
     }
    },
    "3e32c9436b50496294a2d3fa0f4f73b0": {
     "model_module": "@jupyter-widgets/base",
     "model_module_version": "1.2.0",
     "model_name": "LayoutModel",
     "state": {
      "_model_module": "@jupyter-widgets/base",
      "_model_module_version": "1.2.0",
      "_model_name": "LayoutModel",
      "_view_count": null,
      "_view_module": "@jupyter-widgets/base",
      "_view_module_version": "1.2.0",
      "_view_name": "LayoutView",
      "align_content": null,
      "align_items": null,
      "align_self": null,
      "border": null,
      "bottom": null,
      "display": null,
      "flex": null,
      "flex_flow": null,
      "grid_area": null,
      "grid_auto_columns": null,
      "grid_auto_flow": null,
      "grid_auto_rows": null,
      "grid_column": null,
      "grid_gap": null,
      "grid_row": null,
      "grid_template_areas": null,
      "grid_template_columns": null,
      "grid_template_rows": null,
      "height": null,
      "justify_content": null,
      "justify_items": null,
      "left": null,
      "margin": null,
      "max_height": null,
      "max_width": null,
      "min_height": null,
      "min_width": null,
      "object_fit": null,
      "object_position": null,
      "order": null,
      "overflow": null,
      "overflow_x": null,
      "overflow_y": null,
      "padding": null,
      "right": null,
      "top": null,
      "visibility": null,
      "width": null
     }
    },
    "42201169f0c747da993873358b4aeadb": {
     "model_module": "@jupyter-widgets/base",
     "model_module_version": "1.2.0",
     "model_name": "LayoutModel",
     "state": {
      "_model_module": "@jupyter-widgets/base",
      "_model_module_version": "1.2.0",
      "_model_name": "LayoutModel",
      "_view_count": null,
      "_view_module": "@jupyter-widgets/base",
      "_view_module_version": "1.2.0",
      "_view_name": "LayoutView",
      "align_content": null,
      "align_items": null,
      "align_self": null,
      "border": null,
      "bottom": null,
      "display": null,
      "flex": null,
      "flex_flow": null,
      "grid_area": null,
      "grid_auto_columns": null,
      "grid_auto_flow": null,
      "grid_auto_rows": null,
      "grid_column": null,
      "grid_gap": null,
      "grid_row": null,
      "grid_template_areas": null,
      "grid_template_columns": null,
      "grid_template_rows": null,
      "height": null,
      "justify_content": null,
      "justify_items": null,
      "left": null,
      "margin": null,
      "max_height": null,
      "max_width": null,
      "min_height": null,
      "min_width": null,
      "object_fit": null,
      "object_position": null,
      "order": null,
      "overflow": null,
      "overflow_x": null,
      "overflow_y": null,
      "padding": null,
      "right": null,
      "top": null,
      "visibility": null,
      "width": null
     }
    },
    "466e553301744963b9564976b7df0c86": {
     "model_module": "@jupyter-widgets/controls",
     "model_module_version": "1.5.0",
     "model_name": "HTMLModel",
     "state": {
      "_dom_classes": [],
      "_model_module": "@jupyter-widgets/controls",
      "_model_module_version": "1.5.0",
      "_model_name": "HTMLModel",
      "_view_count": null,
      "_view_module": "@jupyter-widgets/controls",
      "_view_module_version": "1.5.0",
      "_view_name": "HTMLView",
      "description": "",
      "description_tooltip": null,
      "layout": "IPY_MODEL_044a5d5c9a0d4e2dbddcb5b4a3ad3754",
      "placeholder": "​",
      "style": "IPY_MODEL_e88c531500274b2681d74f18e316a83f",
      "value": " 170499072/? [00:03&lt;00:00, 53907347.93it/s]"
     }
    },
    "5283944647ca41d6b2de71de292df0b3": {
     "model_module": "@jupyter-widgets/controls",
     "model_module_version": "1.5.0",
     "model_name": "HBoxModel",
     "state": {
      "_dom_classes": [],
      "_model_module": "@jupyter-widgets/controls",
      "_model_module_version": "1.5.0",
      "_model_name": "HBoxModel",
      "_view_count": null,
      "_view_module": "@jupyter-widgets/controls",
      "_view_module_version": "1.5.0",
      "_view_name": "HBoxView",
      "box_style": "",
      "children": [
       "IPY_MODEL_2167d8f13d264e17a1ed1edc76589231",
       "IPY_MODEL_d0a4737865224a0bb924d2c4755bfe08",
       "IPY_MODEL_24e7e46f8e494cd0b4f06252cda6ea72"
      ],
      "layout": "IPY_MODEL_3e32c9436b50496294a2d3fa0f4f73b0"
     }
    },
    "6da29dcb050b40c0903e7384986fc1dc": {
     "model_module": "@jupyter-widgets/base",
     "model_module_version": "1.2.0",
     "model_name": "LayoutModel",
     "state": {
      "_model_module": "@jupyter-widgets/base",
      "_model_module_version": "1.2.0",
      "_model_name": "LayoutModel",
      "_view_count": null,
      "_view_module": "@jupyter-widgets/base",
      "_view_module_version": "1.2.0",
      "_view_name": "LayoutView",
      "align_content": null,
      "align_items": null,
      "align_self": null,
      "border": null,
      "bottom": null,
      "display": null,
      "flex": null,
      "flex_flow": null,
      "grid_area": null,
      "grid_auto_columns": null,
      "grid_auto_flow": null,
      "grid_auto_rows": null,
      "grid_column": null,
      "grid_gap": null,
      "grid_row": null,
      "grid_template_areas": null,
      "grid_template_columns": null,
      "grid_template_rows": null,
      "height": null,
      "justify_content": null,
      "justify_items": null,
      "left": null,
      "margin": null,
      "max_height": null,
      "max_width": null,
      "min_height": null,
      "min_width": null,
      "object_fit": null,
      "object_position": null,
      "order": null,
      "overflow": null,
      "overflow_x": null,
      "overflow_y": null,
      "padding": null,
      "right": null,
      "top": null,
      "visibility": null,
      "width": null
     }
    },
    "7246fe7bc3854b0aa9340b5f48f65918": {
     "model_module": "@jupyter-widgets/controls",
     "model_module_version": "1.5.0",
     "model_name": "ProgressStyleModel",
     "state": {
      "_model_module": "@jupyter-widgets/controls",
      "_model_module_version": "1.5.0",
      "_model_name": "ProgressStyleModel",
      "_view_count": null,
      "_view_module": "@jupyter-widgets/base",
      "_view_module_version": "1.2.0",
      "_view_name": "StyleView",
      "bar_color": null,
      "description_width": ""
     }
    },
    "8397e922c8594af589790803b204754f": {
     "model_module": "@jupyter-widgets/base",
     "model_module_version": "1.2.0",
     "model_name": "LayoutModel",
     "state": {
      "_model_module": "@jupyter-widgets/base",
      "_model_module_version": "1.2.0",
      "_model_name": "LayoutModel",
      "_view_count": null,
      "_view_module": "@jupyter-widgets/base",
      "_view_module_version": "1.2.0",
      "_view_name": "LayoutView",
      "align_content": null,
      "align_items": null,
      "align_self": null,
      "border": null,
      "bottom": null,
      "display": null,
      "flex": null,
      "flex_flow": null,
      "grid_area": null,
      "grid_auto_columns": null,
      "grid_auto_flow": null,
      "grid_auto_rows": null,
      "grid_column": null,
      "grid_gap": null,
      "grid_row": null,
      "grid_template_areas": null,
      "grid_template_columns": null,
      "grid_template_rows": null,
      "height": null,
      "justify_content": null,
      "justify_items": null,
      "left": null,
      "margin": null,
      "max_height": null,
      "max_width": null,
      "min_height": null,
      "min_width": null,
      "object_fit": null,
      "object_position": null,
      "order": null,
      "overflow": null,
      "overflow_x": null,
      "overflow_y": null,
      "padding": null,
      "right": null,
      "top": null,
      "visibility": null,
      "width": null
     }
    },
    "a0b5709de8b24d4aab9edba6426d2054": {
     "model_module": "@jupyter-widgets/controls",
     "model_module_version": "1.5.0",
     "model_name": "HTMLModel",
     "state": {
      "_dom_classes": [],
      "_model_module": "@jupyter-widgets/controls",
      "_model_module_version": "1.5.0",
      "_model_name": "HTMLModel",
      "_view_count": null,
      "_view_module": "@jupyter-widgets/controls",
      "_view_module_version": "1.5.0",
      "_view_name": "HTMLView",
      "description": "",
      "description_tooltip": null,
      "layout": "IPY_MODEL_a3608f36e8304b13b5ca72bbe8a18685",
      "placeholder": "​",
      "style": "IPY_MODEL_cd9b85c971c948b99436d90efce51214",
      "value": ""
     }
    },
    "a3608f36e8304b13b5ca72bbe8a18685": {
     "model_module": "@jupyter-widgets/base",
     "model_module_version": "1.2.0",
     "model_name": "LayoutModel",
     "state": {
      "_model_module": "@jupyter-widgets/base",
      "_model_module_version": "1.2.0",
      "_model_name": "LayoutModel",
      "_view_count": null,
      "_view_module": "@jupyter-widgets/base",
      "_view_module_version": "1.2.0",
      "_view_name": "LayoutView",
      "align_content": null,
      "align_items": null,
      "align_self": null,
      "border": null,
      "bottom": null,
      "display": null,
      "flex": null,
      "flex_flow": null,
      "grid_area": null,
      "grid_auto_columns": null,
      "grid_auto_flow": null,
      "grid_auto_rows": null,
      "grid_column": null,
      "grid_gap": null,
      "grid_row": null,
      "grid_template_areas": null,
      "grid_template_columns": null,
      "grid_template_rows": null,
      "height": null,
      "justify_content": null,
      "justify_items": null,
      "left": null,
      "margin": null,
      "max_height": null,
      "max_width": null,
      "min_height": null,
      "min_width": null,
      "object_fit": null,
      "object_position": null,
      "order": null,
      "overflow": null,
      "overflow_x": null,
      "overflow_y": null,
      "padding": null,
      "right": null,
      "top": null,
      "visibility": null,
      "width": null
     }
    },
    "c394d6e015254371ae0d5d8962ca2082": {
     "model_module": "@jupyter-widgets/controls",
     "model_module_version": "1.5.0",
     "model_name": "DescriptionStyleModel",
     "state": {
      "_model_module": "@jupyter-widgets/controls",
      "_model_module_version": "1.5.0",
      "_model_name": "DescriptionStyleModel",
      "_view_count": null,
      "_view_module": "@jupyter-widgets/base",
      "_view_module_version": "1.2.0",
      "_view_name": "StyleView",
      "description_width": ""
     }
    },
    "cd9b85c971c948b99436d90efce51214": {
     "model_module": "@jupyter-widgets/controls",
     "model_module_version": "1.5.0",
     "model_name": "DescriptionStyleModel",
     "state": {
      "_model_module": "@jupyter-widgets/controls",
      "_model_module_version": "1.5.0",
      "_model_name": "DescriptionStyleModel",
      "_view_count": null,
      "_view_module": "@jupyter-widgets/base",
      "_view_module_version": "1.2.0",
      "_view_name": "StyleView",
      "description_width": ""
     }
    },
    "cf3ced1ecd2d4760b042bc1ffd77ce12": {
     "model_module": "@jupyter-widgets/controls",
     "model_module_version": "1.5.0",
     "model_name": "DescriptionStyleModel",
     "state": {
      "_model_module": "@jupyter-widgets/controls",
      "_model_module_version": "1.5.0",
      "_model_name": "DescriptionStyleModel",
      "_view_count": null,
      "_view_module": "@jupyter-widgets/base",
      "_view_module_version": "1.2.0",
      "_view_name": "StyleView",
      "description_width": ""
     }
    },
    "d0a4737865224a0bb924d2c4755bfe08": {
     "model_module": "@jupyter-widgets/controls",
     "model_module_version": "1.5.0",
     "model_name": "FloatProgressModel",
     "state": {
      "_dom_classes": [],
      "_model_module": "@jupyter-widgets/controls",
      "_model_module_version": "1.5.0",
      "_model_name": "FloatProgressModel",
      "_view_count": null,
      "_view_module": "@jupyter-widgets/controls",
      "_view_module_version": "1.5.0",
      "_view_name": "ProgressView",
      "bar_style": "success",
      "description": "",
      "description_tooltip": null,
      "layout": "IPY_MODEL_8397e922c8594af589790803b204754f",
      "max": 170498071,
      "min": 0,
      "orientation": "horizontal",
      "style": "IPY_MODEL_006a997f0f894aa8b9a52c9743eef88f",
      "value": 170498071
     }
    },
    "d17599be566c4afb9202b172b0863775": {
     "model_module": "@jupyter-widgets/base",
     "model_module_version": "1.2.0",
     "model_name": "LayoutModel",
     "state": {
      "_model_module": "@jupyter-widgets/base",
      "_model_module_version": "1.2.0",
      "_model_name": "LayoutModel",
      "_view_count": null,
      "_view_module": "@jupyter-widgets/base",
      "_view_module_version": "1.2.0",
      "_view_name": "LayoutView",
      "align_content": null,
      "align_items": null,
      "align_self": null,
      "border": null,
      "bottom": null,
      "display": null,
      "flex": null,
      "flex_flow": null,
      "grid_area": null,
      "grid_auto_columns": null,
      "grid_auto_flow": null,
      "grid_auto_rows": null,
      "grid_column": null,
      "grid_gap": null,
      "grid_row": null,
      "grid_template_areas": null,
      "grid_template_columns": null,
      "grid_template_rows": null,
      "height": null,
      "justify_content": null,
      "justify_items": null,
      "left": null,
      "margin": null,
      "max_height": null,
      "max_width": null,
      "min_height": null,
      "min_width": null,
      "object_fit": null,
      "object_position": null,
      "order": null,
      "overflow": null,
      "overflow_x": null,
      "overflow_y": null,
      "padding": null,
      "right": null,
      "top": null,
      "visibility": null,
      "width": null
     }
    },
    "df057586e2cb46df819669aff09cb308": {
     "model_module": "@jupyter-widgets/controls",
     "model_module_version": "1.5.0",
     "model_name": "HBoxModel",
     "state": {
      "_dom_classes": [],
      "_model_module": "@jupyter-widgets/controls",
      "_model_module_version": "1.5.0",
      "_model_name": "HBoxModel",
      "_view_count": null,
      "_view_module": "@jupyter-widgets/controls",
      "_view_module_version": "1.5.0",
      "_view_name": "HBoxView",
      "box_style": "",
      "children": [
       "IPY_MODEL_a0b5709de8b24d4aab9edba6426d2054",
       "IPY_MODEL_28d103b8dcfe4f949d34659975c9a14f",
       "IPY_MODEL_466e553301744963b9564976b7df0c86"
      ],
      "layout": "IPY_MODEL_d17599be566c4afb9202b172b0863775"
     }
    },
    "e88c531500274b2681d74f18e316a83f": {
     "model_module": "@jupyter-widgets/controls",
     "model_module_version": "1.5.0",
     "model_name": "DescriptionStyleModel",
     "state": {
      "_model_module": "@jupyter-widgets/controls",
      "_model_module_version": "1.5.0",
      "_model_name": "DescriptionStyleModel",
      "_view_count": null,
      "_view_module": "@jupyter-widgets/base",
      "_view_module_version": "1.2.0",
      "_view_name": "StyleView",
      "description_width": ""
     }
    },
    "ebc55372048645b59beb007cee39ba3c": {
     "model_module": "@jupyter-widgets/base",
     "model_module_version": "1.2.0",
     "model_name": "LayoutModel",
     "state": {
      "_model_module": "@jupyter-widgets/base",
      "_model_module_version": "1.2.0",
      "_model_name": "LayoutModel",
      "_view_count": null,
      "_view_module": "@jupyter-widgets/base",
      "_view_module_version": "1.2.0",
      "_view_name": "LayoutView",
      "align_content": null,
      "align_items": null,
      "align_self": null,
      "border": null,
      "bottom": null,
      "display": null,
      "flex": null,
      "flex_flow": null,
      "grid_area": null,
      "grid_auto_columns": null,
      "grid_auto_flow": null,
      "grid_auto_rows": null,
      "grid_column": null,
      "grid_gap": null,
      "grid_row": null,
      "grid_template_areas": null,
      "grid_template_columns": null,
      "grid_template_rows": null,
      "height": null,
      "justify_content": null,
      "justify_items": null,
      "left": null,
      "margin": null,
      "max_height": null,
      "max_width": null,
      "min_height": null,
      "min_width": null,
      "object_fit": null,
      "object_position": null,
      "order": null,
      "overflow": null,
      "overflow_x": null,
      "overflow_y": null,
      "padding": null,
      "right": null,
      "top": null,
      "visibility": null,
      "width": null
     }
    }
   }
  }
 },
 "nbformat": 4,
 "nbformat_minor": 1
}
